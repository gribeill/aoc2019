{
 "cells": [
  {
   "cell_type": "markdown",
   "metadata": {},
   "source": [
    "## Day 7 "
   ]
  },
  {
   "cell_type": "code",
   "execution_count": 1,
   "metadata": {},
   "outputs": [],
   "source": [
    "using DelimitedFiles"
   ]
  },
  {
   "cell_type": "code",
   "execution_count": 7,
   "metadata": {},
   "outputs": [
    {
     "data": {
      "text/plain": [
       "intcode_computer (generic function with 1 method)"
      ]
     },
     "execution_count": 7,
     "metadata": {},
     "output_type": "execute_result"
    }
   ],
   "source": [
    "rndict = Dict(1 => 3, 2 => 3, \n",
    "              3 => 1, 4 => 1, \n",
    "              5 => 2, 6 => 2, \n",
    "              7 => 3, 8 => 3,\n",
    "              9 => 1,\n",
    "              99 => 0)\n",
    "\n",
    "struct OpCode\n",
    "    instr::Int\n",
    "    mode::Array{Int, 1}\n",
    "    N::Int\n",
    "end\n",
    "\n",
    "function OpCode(c::Int)\n",
    "    digs = digits(c)\n",
    "    oc = digs[1] + (length(digs) > 1 ? 10*digs[2] : 0)\n",
    "    N = rndict[oc]\n",
    "    mode = zeros(Int, N)\n",
    "    mode[1:length(digs[3:end])] = digs[3:end]\n",
    "    return OpCode(oc, mode, N)\n",
    "end \n",
    "\n",
    "\n",
    "function intcode_computer(program::Array{Int,1}, input::Channel{Int}, output::Channel{Union{Int, Symbol}}; pc::Int=1)\n",
    "    \n",
    "    Np = length(program)\n",
    "    Np_new = 10*Np\n",
    "    for j=1:(Np_new-Np)\n",
    "        push!(program, 0)\n",
    "    end\n",
    "    \n",
    "    jump_flag = false\n",
    "    rel_base = 0\n",
    "    \n",
    "    function load(addr::Int, mode::Int)::Int\n",
    "        #println(\"Load: $(addr) -- $(mode)\")\n",
    "        if mode == 0\n",
    "            return program[addr+1]\n",
    "        elseif mode == 1\n",
    "            return addr\n",
    "        elseif mode == 2\n",
    "            return program[addr + rel_base + 1]\n",
    "        else\n",
    "            error(\"Unknown mode $(mode).\")\n",
    "        end\n",
    "    end\n",
    "    \n",
    "    function store(data::Int, addr::Int, mode::Int)\n",
    "        #println(\"Store: $(data) --> $(addr) -- $(mode)\")\n",
    "        if mode == 0\n",
    "            program[addr+1] = data\n",
    "        elseif mode == 1\n",
    "            error(\"Invalid mode 1 for store instruction.\")\n",
    "        elseif mode == 2\n",
    "            program[addr + rel_base + 1] = data\n",
    "        else\n",
    "            error(\"Unknown mode $(mode).\")\n",
    "        end\n",
    "    end\n",
    "    \n",
    "    function load_input(dst::Int, mode::Int)\n",
    "        #println(\"Waiting for next input: store to $(dst) -- $(mode)\")\n",
    "        inp = take!(input)\n",
    "        store(inp, dst, mode)\n",
    "    end\n",
    "    \n",
    "    function store_output(data::Int)\n",
    "        #println(\"Tried to store output $(data)\")\n",
    "        put!(output, data)    \n",
    "    end    \n",
    "    \n",
    "    function jtrue(x::Int, y::Int)\n",
    "        if x != 0 \n",
    "            pc = y+1\n",
    "            jump_flag = true\n",
    "        end\n",
    "    end\n",
    "    \n",
    "    function jfalse(x::Int, y::Int)\n",
    "        if x == 0  \n",
    "            pc = y+1 \n",
    "            jump_flag = true\n",
    "        end\n",
    "    end\n",
    "    \n",
    "    lt(x::Int, y::Int)::Int = Int(x < y)\n",
    "    \n",
    "    eq(x::Int, y::Int)::Int = Int(x == y)\n",
    "    \n",
    "    while program[pc] != 99\n",
    "        jump_flag = false\n",
    "        oc = OpCode(program[pc])     \n",
    "        #println(oc)\n",
    "        if oc.instr == 1\n",
    "            x = load(program[pc+1], oc.mode[1])\n",
    "            y = load(program[pc+2], oc.mode[2])\n",
    "            store(x+y, program[pc+3], oc.mode[3])\n",
    "            \n",
    "        elseif oc.instr == 2\n",
    "            x = load(program[pc+1], oc.mode[1])\n",
    "            y = load(program[pc+2], oc.mode[2])\n",
    "            store(x*y, program[pc+3], oc.mode[3])\n",
    "            \n",
    "        elseif oc.instr == 3\n",
    "            load_input(program[pc+1], oc.mode[1])\n",
    "            \n",
    "        elseif oc.instr == 4\n",
    "            x = load(program[pc+1], oc.mode[1])\n",
    "            store_output(x)\n",
    "            \n",
    "        elseif oc.instr == 5\n",
    "            x = load(program[pc+1], oc.mode[1])\n",
    "            y = load(program[pc+2], oc.mode[2])\n",
    "            jtrue(x, y)\n",
    "        elseif oc.instr == 6\n",
    "            x = load(program[pc+1], oc.mode[1])\n",
    "            y = load(program[pc+2], oc.mode[2])\n",
    "            jfalse(x, y)\n",
    "            \n",
    "        elseif oc.instr == 7\n",
    "            x = load(program[pc+1], oc.mode[1])\n",
    "            y = load(program[pc+2], oc.mode[2])\n",
    "            store(lt(x,y), program[pc+3], oc.mode[3])\n",
    "            \n",
    "        elseif oc.instr == 8\n",
    "            x = load(program[pc+1], oc.mode[1])\n",
    "            y = load(program[pc+2], oc.mode[2])\n",
    "            store(eq(x,y), program[pc+3], oc.mode[3])\n",
    "            \n",
    "        elseif oc.instr == 9\n",
    "            rel_base += load(program[pc+1], oc.mode[1])\n",
    "            \n",
    "        \n",
    "        else\n",
    "            @error \"Something went wrong! Got code $(oc.instr).\"\n",
    "        end\n",
    "        \n",
    "        pc += (jump_flag ? 0 : oc.N+1)\n",
    "    end\n",
    "    println(\"Computer finished!\")\n",
    "    put!(output, :done);\n",
    "end"
   ]
  },
  {
   "cell_type": "code",
   "execution_count": 3,
   "metadata": {},
   "outputs": [
    {
     "data": {
      "text/plain": [
       "intcode_computer (generic function with 1 method)"
      ]
     },
     "execution_count": 3,
     "metadata": {},
     "output_type": "execute_result"
    }
   ],
   "source": [
    "include(\"./intcode.jl\")"
   ]
  },
  {
   "cell_type": "code",
   "execution_count": 4,
   "metadata": {},
   "outputs": [
    {
     "data": {
      "text/plain": [
       "run_computer (generic function with 1 method)"
      ]
     },
     "execution_count": 4,
     "metadata": {},
     "output_type": "execute_result"
    }
   ],
   "source": [
    "left = [[0 -1]; [1 0]]\n",
    "right = [[0 1]; [-1 0]]\n",
    "\n",
    "function run_computer(program::Array{Int, 1}; start_color=0)\n",
    "    \n",
    "    panels = Dict()\n",
    "    robot_pos = [0,0]\n",
    "    robot_dir = [0,1]\n",
    "    painted = 0\n",
    "    \n",
    "    function next_input(dir)\n",
    "        if dir == 0\n",
    "            robot_dir = left * robot_dir\n",
    "        elseif dir == 1\n",
    "            robot_dir = right * robot_dir\n",
    "        else\n",
    "            error(\"Unknown direction $(dir)!\")\n",
    "        end\n",
    "        \n",
    "        robot_pos += robot_dir;\n",
    "        if robot_pos in keys(panels)\n",
    "            return panels[robot_pos]\n",
    "        else\n",
    "            return 0\n",
    "        end\n",
    "    end\n",
    "    \n",
    "    input_chan = Channel{Int}(4)\n",
    "    output_chan = Channel{Union{Int, Symbol}}(4)\n",
    "    \n",
    "    comp_task = @async intcode_computer(copy(program), input_chan, output_chan)        \n",
    "    \n",
    "    put!(input_chan, start_color)\n",
    "    \n",
    "    idx = 0\n",
    "    done = false\n",
    "    \n",
    "    @sync begin\n",
    "    while !done\n",
    "        idx += 1\n",
    "        if isopen(output_chan)\n",
    "            paint_color = take!(output_chan)\n",
    "            if paint_color == :done\n",
    "                println(\"Got finish code!\")\n",
    "                break\n",
    "            end\n",
    "        else\n",
    "            println(\"channel Was closed!\")\n",
    "            break\n",
    "        end\n",
    "        if !in(robot_pos, keys(panels))\n",
    "            painted += 1\n",
    "        end\n",
    "        panels[robot_pos] = paint_color\n",
    "        if isopen(output_chan)\n",
    "            direction = take!(output_chan)\n",
    "            if paint_color == :done\n",
    "                println(\"Got finish code!\")\n",
    "                break\n",
    "            end\n",
    "        else\n",
    "            println(\"Output chan closed!\")\n",
    "            break\n",
    "        end\n",
    "        if isopen(input_chan)\n",
    "            ni = next_input(direction)\n",
    "            put!(input_chan, ni)\n",
    "        else\n",
    "            break\n",
    "        end\n",
    "        \n",
    "        #print(panels)\n",
    "        \n",
    "    end\n",
    "    end\n",
    "    \n",
    "    print(istaskdone(comp_task))\n",
    "    \n",
    "    return painted, panels\n",
    "end"
   ]
  },
  {
   "cell_type": "code",
   "execution_count": 5,
   "metadata": {},
   "outputs": [],
   "source": [
    "input = readdlm(\"inputs/day11.txt\", ',', Int)[:];"
   ]
  },
  {
   "cell_type": "code",
   "execution_count": 6,
   "metadata": {},
   "outputs": [
    {
     "name": "stdout",
     "output_type": "stream",
     "text": [
      "Computer finished!\n",
      "Got finish code!\n",
      "true"
     ]
    },
    {
     "data": {
      "text/plain": [
       "(2088, Dict{Any,Any}([4, 16] => 1,[-21, -16] => 0,[-19, 18] => 1,[-37, -26] => 1,[-7, -9] => 0,[-40, -22] => 0,[-34, -20] => 1,[-5, 20] => 0,[-4, 0] => 1,[-17, 27] => 1…))"
      ]
     },
     "execution_count": 6,
     "metadata": {},
     "output_type": "execute_result"
    }
   ],
   "source": [
    "painted, panels = run_computer(input,start_color=0)"
   ]
  },
  {
   "cell_type": "code",
   "execution_count": 9,
   "metadata": {},
   "outputs": [
    {
     "name": "stdout",
     "output_type": "stream",
     "text": [
      "████████████████████████████████████████████████████████████████░░█\n",
      "███████████████████████████████████████████████████████████████░██░\n",
      "██████████████████████████████████████████████████████████████░████\n",
      "████████████████████████████████████████████████████████████████░░░\n",
      "████████████████████████████████████████████████████████░░░░███░░░░\n",
      "███████████████████████████████████████████████████████░████░░░█░█░\n",
      "██████████████████████████████████████████████████████░█░░░░██░░░██\n",
      "██████████████████████████████████████████████████████░█░░███████░█\n",
      "██████████████████████████████████████████████████████░░██░█░░░░░██\n",
      "████████████████████████████████████████████████░░███░░░░█░░███████\n",
      "████████████████████████████████████████████░░█░█░█░███████░███████\n",
      "███████████████████████████████████████████░█░░░░███░░█░█░█░███████\n",
      "███████████████████████████████████████░░██░██░█░░███░███░░░███████\n",
      "███████████████████████████████████████░░█░███░░██████░█░░█████████\n",
      "████████████████████████████████████████░░██░██░██░█░░█░█░░████████\n",
      "█████████████████████████████████░░░░█░░██░█░░░░██░░██░░░██████████\n",
      "█████████████████████████████████░████░░░███████░░█░░░░████████████\n",
      "█████████████████████████████████░█░█░█░░██░█░█░██░░░█░░░██████████\n",
      "█████████████████████████████████░░██░░░█░░░░░█░█░░█░█░░███████████\n",
      "████████████████████████████████████░░░░░█░█░░░░█░█░███████████████\n",
      "██████████████████████████████████████░░░░█░░██░██░██░░░███░███████\n",
      "██████████████████████████████████░░█░░░█░░███░█░░░░███░░█░░███████\n",
      "███████████████████████████████░████░█░█░█░█░██░░█░░░██░█░█░███████\n",
      "█████████████████████████████████░░█░░░░░░░█░░██░░██░█░█░█░█░██████\n",
      "█████████████████████████████████░█░█░█░░░░█░██░██░░█░░█░██░█░█████\n",
      "█████████████████████████████████████░░████░████░░█░░░░█████░░█████\n",
      "███████████████████████████████░███░░█░██░██░░░███████░░███████████\n",
      "██████████████████████████████████░░░█░█░█░██░█░██░███░████████████\n",
      "█████████████████████████████████████░░██░░██░██░█████░░███████████\n",
      "██████████████████████████████████░█░░█░░█░░░░░░░█░█░███░░█████████\n",
      "████████████████████████████████████░███░░██░██░█░██████░░█████████\n",
      "███████████████████████████████░█░█░░███░░█░░█░░░░░░███░░██████████\n",
      "████████████████████████████████░█░░░░░░██░░░░░█░█░░█░█░█░░░███████\n",
      "████████████████████████████████░░░░░░█░██░█░░░░░░██░██░█░█░███████\n",
      "████████████████████████████░░█░██░████░░█░███░██░░░█░█░██░████████\n",
      "████████████████████████████░█░░░░░░█░███░░░░█░██░░░█░█░░█░████████\n",
      "██████████████████████████░░░░░░░░░░██░█░░░████░█░░█░░░░░░░████████\n",
      "██████████████████████████░░█████░█░░█░██░░██░█░█████░░░█░█████████\n",
      "███████████████████████████░░░█░██████░█████░░░░████░░░░█░░░███████\n",
      "███████████████████████████░░███░░█░░███░░░░░█░█░█░░░█░░░██░███████\n",
      "██████████████████████████░░█░░░██░░░███████░░░░░████░███░░████████\n",
      "███████████████████████░░█░██░░█░████░█░█░██░░░░██░░█░█████████████\n",
      "██████████░░░░███░░░█░█░████░░████░█░░█░███░░░░████░░░█████████████\n",
      "██████████░████░███░██░█░█░█████░░░█░░░░░█░░░░█░░█░░░░█████████████\n",
      "███████████░░░░░██░░░░█░███░█░░██░█░░█░███░█░░░░█░██░██████████████\n",
      "██████████████░░█░░░░██░░░██░░░██░█░█░░██░███░██░░░█░██████████████\n",
      "███████████████░███░░██░█░░██░░███░░█░█░█░░█░█░░█░█░░██████████████\n",
      "████████████████░░░░███░░░░█░░████░████░█░██░██████████████████████\n",
      "█████████████████░░░██░█░░█░████░░█████░█████░░░█░█████████████████\n",
      "████████████████░█░░░░███░░█░██░░█░░░██░░░█████████████████████████\n",
      "████████████████░████████░█░██░█░█░██░███████░░███░████████████████\n",
      "█████████████████░░░██░░█░█░░█░░░░████░░░██░░█░░░░░████████████████\n",
      "███████████████░░░█░░██░░░░█░░█░░░█████░░░█░░█░████████████████████\n",
      "████████████████░░██░█░███░█░░░░░███████░░░██░█████████████████████\n",
      "██████████████░░█░█░█░░████░░░░█░░████████████░░███████████████████\n",
      "██████████████████░░░█░█████░░█░░███████░░█░░█░░███████████████████\n",
      "███████████████░░░██░█░░████░██░██░░░░░██░░░███████████████████████\n",
      "█████████████████░█░███████░█░█░░██░███░░░░░███████████████████████\n",
      "████████████████░░█░░░█░██░█░░░███░░███░█░░░███████████████████████\n",
      "██████████████░██░░░█░░░█░░░█░░░░██░░░███░░░███████████████████████\n",
      "███████████████░██████░█░█░█░█░█░░███░░█░██░███████████████████████\n",
      "████████████░░██░░██░██████░██░█░░█░░████░░░███████████████████████\n",
      "█████████████░░░░███████░░░█░░██░██░█░░█░░█░███████████████████████\n",
      "███████████░█░░░░░░██░░░░█░░░░█░█░░███░█░░██░██████████████████████\n",
      "███████████░░░░█░░░███░░░░████░░░░░░░█░███░░░██████████████████████\n",
      "████████░░████░█░█░█░░█░██░██░██░█░░██░░█░█████████████████████████\n",
      "████░░██░████░█░░███░░█░░░░█░░░░█░█░░█░░░░░████████████████████████\n",
      "██░░░░░░░██░█░█░░███░█░██░░░░██░█████░█░░░█████████████████████████\n",
      "███░█░░░██░█░░██░░░░██░░██░░░░██░░███░█████████████████████████████\n",
      "██░░░░░░████░██░░████░█░░░░█░█████░██░█░███████████████████████████\n",
      "███░█░░█░██░█░░█░████░███░█░████░██░███░░░█████████████████████████\n",
      "███████░░░░░░░█░░░███░████░░░░█░░░██░░░░█░█░███████████████████████\n",
      "████░░█░██░░██░█████░░░██░███░██░████░██░█░░███████████████████████\n",
      "█░░░██░█░░█░█░███░█░░███░█████░░█████░███░█████████████████████████\n",
      "░██░███░█░░██░░░░█░█░█░░░░░█████████████░░█████████████████████████\n",
      "░████░░░█████░░█░░███░██░░░░░██████████████████████████████████████\n",
      "█░░█░██░███░░░░█░░██░░██░████░█████████████████████████████████████\n",
      "████░░█████████░░██░░░░███░░░░█████████████████████████████████████\n",
      "████████████░██░███████████████████████████████████████████████████\n",
      "███████████░█░░░███████████████████████████████████████████████████\n",
      "███████████░░██████████████████████████████████████████████████████\n"
     ]
    }
   ],
   "source": [
    "draw_panels(panels)"
   ]
  },
  {
   "cell_type": "code",
   "execution_count": 10,
   "metadata": {},
   "outputs": [
    {
     "name": "stdout",
     "output_type": "stream",
     "text": [
      "Computer finished!\n",
      "Got finish code!\n",
      "true"
     ]
    },
    {
     "data": {
      "text/plain": [
       "(249, Dict{Any,Any}([20, 0] => 0,[20, -2] => 0,[24, -1] => 0,[33, 0] => 1,[34, -4] => 1,[30, -4] => 0,[42, -1] => 0,[20, -5] => 0,[7, -2] => 0,[21, -1] => 1…))"
      ]
     },
     "execution_count": 10,
     "metadata": {},
     "output_type": "execute_result"
    }
   ],
   "source": [
    "painted, panels = run_computer(input, start_color=1)"
   ]
  },
  {
   "cell_type": "code",
   "execution_count": 11,
   "metadata": {},
   "outputs": [
    {
     "name": "stdout",
     "output_type": "stream",
     "text": [
      "█░██░█░░░███░░███░░██░░░░█░█████░░██░░░███\n",
      "█░██░█░██░█░██░█░██░█░████░████░██░█░██░██\n",
      "█░██░█░██░█░████░██░█░░░██░████░████░██░██\n",
      "█░██░█░░░██░████░░░░█░████░████░████░░░███\n",
      "█░██░█░█░██░██░█░██░█░████░████░██░█░█████\n",
      "██░░██░██░██░░██░██░█░████░░░░██░░██░█████\n"
     ]
    }
   ],
   "source": [
    "draw_panels(panels)"
   ]
  },
  {
   "cell_type": "code",
   "execution_count": 8,
   "metadata": {},
   "outputs": [
    {
     "data": {
      "text/plain": [
       "draw_panels (generic function with 1 method)"
      ]
     },
     "execution_count": 8,
     "metadata": {},
     "output_type": "execute_result"
    }
   ],
   "source": [
    "function draw_panels(panels)\n",
    "    \n",
    "    x = [k[1] for k in keys(panels)]\n",
    "    y = [k[2] for k in keys(panels)]\n",
    "\n",
    "    nx = abs(maximum(x) - minimum(x))\n",
    "    ny = abs(maximum(y) - minimum(y))+1\n",
    "    \n",
    "    mx = minimum(x)\n",
    "    my = maximum(y)\n",
    "    \n",
    "    #println(nx)\n",
    "    #println(ny)\n",
    "    \n",
    "    #println(mx)\n",
    "    #println(my)\n",
    "    draw(x) = x == 0 ? print(\"█\") : print(\"░\")\n",
    "    \n",
    "    for j = 1:ny\n",
    "        for k=1:nx\n",
    "            #println((mx+k-1,my-j+1))\n",
    "            pos = [mx+k-1, my-j+1]\n",
    "            if pos in keys(panels)\n",
    "                draw(panels[pos])\n",
    "            else\n",
    "                draw(0)\n",
    "                #continue\n",
    "            end\n",
    "        end\n",
    "        print(\"\\n\")\n",
    "    end\n",
    "end"
   ]
  },
  {
   "cell_type": "code",
   "execution_count": null,
   "metadata": {},
   "outputs": [],
   "source": []
  }
 ],
 "metadata": {
  "kernelspec": {
   "display_name": "Julia 1.3.0",
   "language": "julia",
   "name": "julia-1.3"
  },
  "language_info": {
   "file_extension": ".jl",
   "mimetype": "application/julia",
   "name": "julia",
   "version": "1.3.0"
  }
 },
 "nbformat": 4,
 "nbformat_minor": 2
}
