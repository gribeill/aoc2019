{
 "cells": [
  {
   "cell_type": "code",
   "execution_count": 1,
   "metadata": {},
   "outputs": [
    {
     "data": {
      "text/plain": [
       "energy (generic function with 1 method)"
      ]
     },
     "execution_count": 1,
     "metadata": {},
     "output_type": "execute_result"
    }
   ],
   "source": [
    "mutable struct Planet\n",
    "    pos::Array{Int,1}\n",
    "    vel::Array{Int,1}\n",
    "end\n",
    "\n",
    "Planet(pos::Array{Int,1}) = Planet(pos, [0,0,0])\n",
    "\n",
    "function update!(p::Planet) \n",
    "    p.pos += p.vel\n",
    "    #println(p.pos)\n",
    "    #println(p.vel)\n",
    "end\n",
    "\n",
    "function gravity(a, b)\n",
    "    if a < b\n",
    "        return +1\n",
    "    elseif a > b\n",
    "        return -1\n",
    "    else\n",
    "        return 0\n",
    "    end\n",
    "end\n",
    "    \n",
    "function calculate_velocities!(ps::Array{Planet,1})\n",
    "    for a in ps\n",
    "        for b in ps\n",
    "            if a != b\n",
    "                a.vel += [gravity(x,y) for (x,y) = zip(a.pos,b.pos)]\n",
    "            end\n",
    "        end\n",
    "    end\n",
    "end\n",
    "\n",
    "function time_step!(ps::Array{Planet,1})\n",
    "    calculate_velocities!(ps)    \n",
    "    for p in ps\n",
    "        update!(p)\n",
    "    end\n",
    "end\n",
    "\n",
    "function energy(p::Planet)\n",
    "    PE = sum(abs.(p.pos))\n",
    "    KE = sum(abs.(p.vel))\n",
    "    return PE*KE\n",
    "end\n",
    "    "
   ]
  },
  {
   "cell_type": "code",
   "execution_count": 3,
   "metadata": {},
   "outputs": [
    {
     "data": {
      "text/plain": [
       "parse_input (generic function with 1 method)"
      ]
     },
     "execution_count": 3,
     "metadata": {},
     "output_type": "execute_result"
    }
   ],
   "source": [
    "function parse_input(input::Array{T, 1}) where T <: AbstractString\n",
    "    planets = Array{Planet,1}()\n",
    "    for s = input\n",
    "        m = match(r\"<x=(-?\\d+), y=(-?\\d+), z=(-?\\d+)>\", s)\n",
    "        pos = [parse(Int,x) for x in m.captures]\n",
    "        push!(planets, Planet(pos))\n",
    "    end\n",
    "    return planets\n",
    "end"
   ]
  },
  {
   "cell_type": "code",
   "execution_count": 22,
   "metadata": {},
   "outputs": [
    {
     "data": {
      "text/plain": [
       "189"
      ]
     },
     "execution_count": 22,
     "metadata": {},
     "output_type": "execute_result"
    }
   ],
   "source": [
    "input = \"\"\"<x=-1, y=0, z=2>\n",
    "<x=2, y=-10, z=-7>\n",
    "<x=4, y=-8, z=8>\n",
    "<x=3, y=5, z=-1>\"\"\"\n",
    "\n",
    "input = split(input, '\\n')\n",
    "ps = parse_input(input)\n",
    "\n",
    "N = 3000\n",
    "e = zeros(Float64, N)\n",
    "\n",
    "for j=1:N\n",
    "    time_step!(ps)\n",
    "    e[j] = sum([energy(p) for p = ps])\n",
    "end\n",
    "\n",
    "sum([energy(p) for p = ps])"
   ]
  },
  {
   "cell_type": "code",
   "execution_count": 13,
   "metadata": {},
   "outputs": [
    {
     "data": {
      "text/plain": [
       "1940"
      ]
     },
     "execution_count": 13,
     "metadata": {},
     "output_type": "execute_result"
    }
   ],
   "source": [
    "input = \"\"\"<x=-8, y=-10, z=0>\n",
    "<x=5, y=5, z=10>\n",
    "<x=2, y=-7, z=3>\n",
    "<x=9, y=-8, z=-3>\"\"\"\n",
    "\n",
    "input = split(input, '\\n')\n",
    "ps = parse_input(input)\n",
    "\n",
    "for j=1:100\n",
    "    time_step!(ps)\n",
    "end\n",
    "\n",
    "sum([energy(p) for p = ps])"
   ]
  },
  {
   "cell_type": "code",
   "execution_count": 17,
   "metadata": {},
   "outputs": [
    {
     "data": {
      "text/plain": [
       "9441"
      ]
     },
     "execution_count": 17,
     "metadata": {},
     "output_type": "execute_result"
    }
   ],
   "source": [
    "input = readlines(\"./inputs/day12.txt\")\n",
    "\n",
    "ps = parse_input(input)\n",
    "\n",
    "N = 1000\n",
    "x = zeros(Float64, N)\n",
    "y = zeros(Float64, N)\n",
    "z = zeros(Float64, N)\n",
    "e = zeros(Float64, N)\n",
    "\n",
    "for j=1:N\n",
    "    time_step!(ps)\n",
    "    x[j], y[j], z[j] = ps[1].pos\n",
    "end\n",
    "\n",
    "sum([energy(p) for p = ps])"
   ]
  },
  {
   "cell_type": "code",
   "execution_count": 16,
   "metadata": {},
   "outputs": [
    {
     "name": "stderr",
     "output_type": "stream",
     "text": [
      "┌ Warning: PyPlot is using tkagg backend, which is known to cause crashes on MacOS (#410); use the MPLBACKEND environment variable to request a different backend.\n",
      "└ @ PyPlot /Users/gribeill/.julia/packages/PyPlot/4wzW1/src/init.jl:192\n"
     ]
    }
   ],
   "source": [
    "using PyPlot"
   ]
  },
  {
   "cell_type": "code",
   "execution_count": null,
   "metadata": {},
   "outputs": [],
   "source": []
  }
 ],
 "metadata": {
  "kernelspec": {
   "display_name": "Julia 1.3.0",
   "language": "julia",
   "name": "julia-1.3"
  },
  "language_info": {
   "file_extension": ".jl",
   "mimetype": "application/julia",
   "name": "julia",
   "version": "1.3.0"
  }
 },
 "nbformat": 4,
 "nbformat_minor": 2
}
