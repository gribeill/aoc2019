{
 "cells": [
  {
   "cell_type": "code",
   "execution_count": 294,
   "metadata": {},
   "outputs": [
    {
     "data": {
      "text/plain": [
       "get_best (generic function with 1 method)"
      ]
     },
     "execution_count": 294,
     "metadata": {},
     "output_type": "execute_result"
    }
   ],
   "source": [
    "function parse_map(input)\n",
    "    H = length(input)\n",
    "    W = length(input[1])\n",
    "\n",
    "    map = zeros(Bool, (H,W))\n",
    "    asteroids = []\n",
    "    \n",
    "    for j = 1:H\n",
    "        for k = 1:W\n",
    "            if input[j][k] == '#'\n",
    "                map[j,k] = true\n",
    "                push!(asteroids, (k,j))\n",
    "            end\n",
    "        end\n",
    "    end\n",
    "    return map, asteroids\n",
    "end\n",
    "\n",
    "function parse_map_X(input)\n",
    "    H = length(input)\n",
    "    W = length(input[1])\n",
    "    println(H, W)\n",
    "    map = zeros(Bool, (H,W))\n",
    "    asteroids = []\n",
    "    xpos = (0,0)\n",
    "    \n",
    "    for j = 1:H\n",
    "        for k = 1:W\n",
    "            if input[j][k] == '#'\n",
    "                map[j,k] = true\n",
    "                push!(asteroids, (k,j))\n",
    "            end\n",
    "            if input[j][k] == 'X'\n",
    "                print(\"found\")\n",
    "                xpos = (k,j)\n",
    "            end\n",
    "        end\n",
    "    end\n",
    "    return map, asteroids, xpos\n",
    "end\n",
    "\n",
    "function count_map(asteroids, counts, map)\n",
    "    cmap = zeros(Int, size(map))\n",
    "    for (j,a) = enumerate(asteroids)\n",
    "        cmap[a[2],a[1]] = counts[j]\n",
    "    end\n",
    "    return cmap\n",
    "end\n",
    "\n",
    "function count_visible(asteroids)\n",
    "    N = length(asteroids)\n",
    "    θs = []\n",
    "    for j = 1:N\n",
    "        xc, yc = asteroids[j]\n",
    "        θ = []\n",
    "        for a = asteroids[1:N .!= j]\n",
    "            x,y = a\n",
    "            push!(θ, atan(y-yc,x-xc))\n",
    "        end\n",
    "        push!(θs, θ)\n",
    "    end\n",
    "    \n",
    "    return [length(Set(x)) for x in θs]\n",
    "end\n",
    "\n",
    "function get_best(asteroids, count)\n",
    "    best = maximum(count)\n",
    "    pos = asteroids[argmax(count)]\n",
    "    return best, (pos[1]-1, pos[2]-1)\n",
    "end"
   ]
  },
  {
   "cell_type": "code",
   "execution_count": 178,
   "metadata": {},
   "outputs": [
    {
     "data": {
      "text/plain": [
       "5×5 Array{Int64,2}:\n",
       " 0  7  0  0  7\n",
       " 0  0  0  0  0\n",
       " 6  7  7  7  5\n",
       " 0  0  0  0  7\n",
       " 0  0  0  8  7"
      ]
     },
     "execution_count": 178,
     "metadata": {},
     "output_type": "execute_result"
    }
   ],
   "source": [
    "input = \"\"\".#..#\n",
    ".....\n",
    "#####\n",
    "....#\n",
    "...##\"\"\"\n",
    "map, asteroids = parse_map(split(input, '\\n'))\n",
    "cnt = count_visible(asteroids)\n",
    "count_map(asteroids, cnt, map)"
   ]
  },
  {
   "cell_type": "code",
   "execution_count": 179,
   "metadata": {},
   "outputs": [
    {
     "data": {
      "text/plain": [
       "(33, (5, 8))"
      ]
     },
     "execution_count": 179,
     "metadata": {},
     "output_type": "execute_result"
    }
   ],
   "source": [
    "input = \"\"\"......#.#.\n",
    "#..#.#....\n",
    "..#######.\n",
    ".#.#.###..\n",
    ".#..#.....\n",
    "..#....#.#\n",
    "#..#....#.\n",
    ".##.#..###\n",
    "##...#..#.\n",
    ".#....####\"\"\"\n",
    "map, asteroids = parse_map(split(input, '\\n'))\n",
    "cnt = count_visible(asteroids)\n",
    "count_map(asteroids, cnt, map)\n",
    "get_best(asteroids, cnt)"
   ]
  },
  {
   "cell_type": "code",
   "execution_count": 180,
   "metadata": {},
   "outputs": [
    {
     "data": {
      "text/plain": [
       "(35, (1, 2))"
      ]
     },
     "execution_count": 180,
     "metadata": {},
     "output_type": "execute_result"
    }
   ],
   "source": [
    "input = \"\"\"#.#...#.#.\n",
    ".###....#.\n",
    ".#....#...\n",
    "##.#.#.#.#\n",
    "....#.#.#.\n",
    ".##..###.#\n",
    "..#...##..\n",
    "..##....##\n",
    "......#...\n",
    ".####.###.\"\"\"\n",
    "map, asteroids = parse_map(split(input, '\\n'))\n",
    "cnt = count_visible(asteroids)\n",
    "count_map(asteroids, cnt, map)\n",
    "get_best(asteroids, cnt)"
   ]
  },
  {
   "cell_type": "code",
   "execution_count": 181,
   "metadata": {},
   "outputs": [
    {
     "data": {
      "text/plain": [
       "(41, (6, 3))"
      ]
     },
     "execution_count": 181,
     "metadata": {},
     "output_type": "execute_result"
    }
   ],
   "source": [
    "input = \"\"\".#..#..###\n",
    "####.###.#\n",
    "....###.#.\n",
    "..###.##.#\n",
    "##.##.#.#.\n",
    "....###..#\n",
    "..#.#..#.#\n",
    "#..#.#.###\n",
    ".##...##.#\n",
    ".....#.#..\"\"\"\n",
    "map, asteroids = parse_map(split(input, '\\n'))\n",
    "cnt = count_visible(asteroids)\n",
    "count_map(asteroids, cnt, map)\n",
    "get_best(asteroids, cnt)"
   ]
  },
  {
   "cell_type": "code",
   "execution_count": 320,
   "metadata": {},
   "outputs": [
    {
     "data": {
      "text/plain": [
       "convert (generic function with 1 method)"
      ]
     },
     "execution_count": 320,
     "metadata": {},
     "output_type": "execute_result"
    }
   ],
   "source": [
    "convert(a) = (a[1]-1, a[2]-1)"
   ]
  },
  {
   "cell_type": "code",
   "execution_count": 322,
   "metadata": {},
   "outputs": [
    {
     "name": "stdout",
     "output_type": "stream",
     "text": [
      "Best 210 at (11, 13)"
     ]
    }
   ],
   "source": [
    "input = \"\"\".#..##.###...#######\n",
    "##.############..##.\n",
    ".#.######.########.#\n",
    ".###.#######.####.#.\n",
    "#####.##.#.##.###.##\n",
    "..#####..#.#########\n",
    "####################\n",
    "#.####....###.#.#.##\n",
    "##.#################\n",
    "#####.##.###..####..\n",
    "..######..##.#######\n",
    "####.##.####...##..#\n",
    ".#####..#.######.###\n",
    "##...#.##########...\n",
    "#.##########.#######\n",
    ".####.#.###.###.#.##\n",
    "....##.##.###..#####\n",
    ".#.#.###########.###\n",
    "#.#.#.#####.####.###\n",
    "###.##.####.##.#..##\"\"\"\n",
    "map, asteroids = parse_map(split(input, '\\n'))\n",
    "cnt = count_visible(asteroids)\n",
    "count_map(asteroids, cnt, map)\n",
    "max, pos = get_best(asteroids, cnt)\n",
    "print(\"Best $(max) at $(pos)\")\n",
    "c = (pos[1]+1, pos[2]+1)\n",
    "v = vaporize(asteroids, c);"
   ]
  },
  {
   "cell_type": "code",
   "execution_count": 327,
   "metadata": {},
   "outputs": [
    {
     "data": {
      "text/plain": [
       "(8, 2)"
      ]
     },
     "execution_count": 327,
     "metadata": {},
     "output_type": "execute_result"
    }
   ],
   "source": [
    "v[200]"
   ]
  },
  {
   "cell_type": "code",
   "execution_count": 328,
   "metadata": {},
   "outputs": [],
   "source": [
    "input = readlines(\"./inputs/day10.txt\")\n",
    "map, asteroids = parse_map(input);\n",
    "cnt = count_visible(asteroids)\n",
    "count_map(asteroids, cnt, map)\n",
    "best_visible, pos = get_best(asteroids, cnt)\n",
    "c = (pos[1]+1, pos[2]+1)\n",
    "v = vaporize(asteroids, c);"
   ]
  },
  {
   "cell_type": "code",
   "execution_count": 331,
   "metadata": {},
   "outputs": [
    {
     "data": {
      "text/plain": [
       "806"
      ]
     },
     "execution_count": 331,
     "metadata": {},
     "output_type": "execute_result"
    }
   ],
   "source": [
    "v[200][1]*100 + v[200][2]"
   ]
  },
  {
   "cell_type": "code",
   "execution_count": 321,
   "metadata": {},
   "outputs": [
    {
     "data": {
      "text/plain": [
       "vaporize (generic function with 2 methods)"
      ]
     },
     "execution_count": 321,
     "metadata": {},
     "output_type": "execute_result"
    }
   ],
   "source": [
    "struct Asteroid\n",
    "    angle::Float64\n",
    "    distance::Float64\n",
    "    start::Tuple{Int,Int}\n",
    "    pos::Tuple{Int,Int}\n",
    "end\n",
    "\n",
    "function Asteroid(a::Tuple{Int,Int}, c::Tuple{Int,Int}) \n",
    "    θ = mod2pi(pi/2 + atan(a[2]-c[2],a[1]-c[1]))\n",
    "    d = sqrt((a[1]-c[1])^2 + (a[2]-c[2])^2)\n",
    "    return Asteroid(θ, d, c, a)\n",
    "end\n",
    "\n",
    "function vaporize(asteroids, c)\n",
    "    N = length(asteroids)\n",
    "    aa = [Asteroid(a, c) for a in asteroids if a != c]\n",
    "    sort!(aa)\n",
    "    for a in aa\n",
    "        #println(a)\n",
    "    end\n",
    "                \n",
    "    used_angles = []\n",
    "    vo = []\n",
    "                \n",
    "    for a in aa\n",
    "        if a.angle in used_angles\n",
    "            continue\n",
    "        else\n",
    "            push!(used_angles, a.angle)\n",
    "            push!(vo, convert(a.pos))\n",
    "        end\n",
    "    end\n",
    "    return vo\n",
    "end"
   ]
  },
  {
   "cell_type": "code",
   "execution_count": 259,
   "metadata": {},
   "outputs": [
    {
     "data": {
      "text/plain": [
       "isless (generic function with 42 methods)"
      ]
     },
     "execution_count": 259,
     "metadata": {},
     "output_type": "execute_result"
    }
   ],
   "source": [
    "import Base: isless\n",
    "function isless(a::Asteroid, b::Asteroid)\n",
    "    if a.angle == b.angle\n",
    "        return isless(a.distance, b.distance)\n",
    "    else\n",
    "        return isless(a.angle, b.angle)\n",
    "    end\n",
    "end"
   ]
  },
  {
   "cell_type": "code",
   "execution_count": 239,
   "metadata": {},
   "outputs": [
    {
     "name": "stdout",
     "output_type": "stream",
     "text": [
      "517\n",
      "found"
     ]
    },
    {
     "data": {
      "text/plain": [
       "30-element Array{Any,1}:\n",
       " (9, 2) \n",
       " (8, 1) \n",
       " (7, 1) \n",
       " (7, 2) \n",
       " (6, 2) \n",
       " (2, 1) \n",
       " (6, 3) \n",
       " (2, 2) \n",
       " (1, 2) \n",
       " (2, 3) \n",
       " (1, 3) \n",
       " (3, 4) \n",
       " (3, 5) \n",
       " ⋮      \n",
       " (16, 3)\n",
       " (15, 3)\n",
       " (14, 3)\n",
       " (13, 3)\n",
       " (16, 2)\n",
       " (12, 3)\n",
       " (13, 2)\n",
       " (12, 2)\n",
       " (10, 3)\n",
       " (11, 1)\n",
       " (10, 2)\n",
       " (10, 1)"
      ]
     },
     "execution_count": 239,
     "metadata": {},
     "output_type": "execute_result"
    }
   ],
   "source": [
    "input = \"\"\"\n",
    ".#....#####...#..\n",
    "##...##.#####..##\n",
    "##...#...#.#####.\n",
    "..#.....X...###..\n",
    "..#.#.....#....##\"\"\"\n",
    "map, asteroids,xpos = parse_map_X(split(input, '\\n'))\n",
    "vaporize(asteroids, xpos)"
   ]
  },
  {
   "cell_type": "code",
   "execution_count": null,
   "metadata": {},
   "outputs": [],
   "source": []
  }
 ],
 "metadata": {
  "kernelspec": {
   "display_name": "Julia 1.3.0",
   "language": "julia",
   "name": "julia-1.3"
  },
  "language_info": {
   "file_extension": ".jl",
   "mimetype": "application/julia",
   "name": "julia",
   "version": "1.3.0"
  }
 },
 "nbformat": 4,
 "nbformat_minor": 2
}
