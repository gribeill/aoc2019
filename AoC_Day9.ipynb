{
 "cells": [
  {
   "cell_type": "markdown",
   "metadata": {},
   "source": [
    "## Day 7 "
   ]
  },
  {
   "cell_type": "code",
   "execution_count": 1,
   "metadata": {},
   "outputs": [],
   "source": [
    "using DelimitedFiles"
   ]
  },
  {
   "cell_type": "code",
   "execution_count": 63,
   "metadata": {},
   "outputs": [
    {
     "data": {
      "text/plain": [
       "intcode_computer (generic function with 1 method)"
      ]
     },
     "execution_count": 63,
     "metadata": {},
     "output_type": "execute_result"
    }
   ],
   "source": [
    "rndict = Dict(1 => 3, 2 => 3, \n",
    "              3 => 1, 4 => 1, \n",
    "              5 => 2, 6 => 2, \n",
    "              7 => 3, 8 => 3,\n",
    "              9 => 1,\n",
    "              99 => 0)\n",
    "\n",
    "struct OpCode\n",
    "    instr::Int\n",
    "    mode::Array{Int, 1}\n",
    "    N::Int\n",
    "end\n",
    "\n",
    "function OpCode(c::Int)\n",
    "    digs = digits(c)\n",
    "    oc = digs[1] + (length(digs) > 1 ? 10*digs[2] : 0)\n",
    "    N = rndict[oc]\n",
    "    mode = zeros(Int, N)\n",
    "    mode[1:length(digs[3:end])] = digs[3:end]\n",
    "    return OpCode(oc, mode, N)\n",
    "end \n",
    "\n",
    "\n",
    "function intcode_computer(program::Array{Int,1}, input::Channel{Int}, output::Channel{Int}; pc::Int=1)\n",
    "    \n",
    "    Np = length(program)\n",
    "    Np_new = 10*Np\n",
    "    for j=1:(Np_new-Np)\n",
    "        push!(program, 0)\n",
    "    end\n",
    "    \n",
    "    jump_flag = false\n",
    "    rel_base = 0\n",
    "    \n",
    "    function load(addr::Int, mode::Int)::Int\n",
    "        #println(\"Load: $(addr) -- $(mode)\")\n",
    "        if mode == 0\n",
    "            return program[addr+1]\n",
    "        elseif mode == 1\n",
    "            return addr\n",
    "        elseif mode == 2\n",
    "            return program[addr + rel_base + 1]\n",
    "        else\n",
    "            error(\"Unknown mode $(mode).\")\n",
    "        end\n",
    "    end\n",
    "    \n",
    "    function store(data::Int, addr::Int, mode::Int)\n",
    "        #println(\"Store: $(data) --> $(addr) -- $(mode)\")\n",
    "        if mode == 0\n",
    "            program[addr+1] = data\n",
    "        elseif mode == 1\n",
    "            error(\"Invalid mode 1 for store instruction.\")\n",
    "        elseif mode == 2\n",
    "            program[addr + rel_base + 1] = data\n",
    "        else\n",
    "            error(\"Unknown mode $(mode).\")\n",
    "        end\n",
    "    end\n",
    "    \n",
    "    function load_input(dst::Int, mode::Int)\n",
    "        #println(\"Waiting for next input: store to $(dst) -- $(mode)\")\n",
    "        inp = take!(input)\n",
    "        store(inp, dst, mode)\n",
    "    end\n",
    "    \n",
    "    function store_output(data::Int)\n",
    "        #println(\"Tried to store output $(data)\")\n",
    "        put!(output, data)    \n",
    "    end    \n",
    "    \n",
    "    function jtrue(x::Int, y::Int)\n",
    "        if x != 0 \n",
    "            pc = y+1\n",
    "            jump_flag = true\n",
    "        end\n",
    "    end\n",
    "    \n",
    "    function jfalse(x::Int, y::Int)\n",
    "        if x == 0  \n",
    "            pc = y+1 \n",
    "            jump_flag = true\n",
    "        end\n",
    "    end\n",
    "    \n",
    "    lt(x::Int, y::Int)::Int = Int(x < y)\n",
    "    \n",
    "    eq(x::Int, y::Int)::Int = Int(x == y)\n",
    "    \n",
    "    while program[pc] != 99\n",
    "        jump_flag = false\n",
    "        oc = OpCode(program[pc])     \n",
    "        #println(oc)\n",
    "        if oc.instr == 1\n",
    "            x = load(program[pc+1], oc.mode[1])\n",
    "            y = load(program[pc+2], oc.mode[2])\n",
    "            store(x+y, program[pc+3], oc.mode[3])\n",
    "            \n",
    "        elseif oc.instr == 2\n",
    "            x = load(program[pc+1], oc.mode[1])\n",
    "            y = load(program[pc+2], oc.mode[2])\n",
    "            store(x*y, program[pc+3], oc.mode[3])\n",
    "            \n",
    "        elseif oc.instr == 3\n",
    "            load_input(program[pc+1], oc.mode[1])\n",
    "            \n",
    "        elseif oc.instr == 4\n",
    "            x = load(program[pc+1], oc.mode[1])\n",
    "            store_output(x)\n",
    "            \n",
    "        elseif oc.instr == 5\n",
    "            x = load(program[pc+1], oc.mode[1])\n",
    "            y = load(program[pc+2], oc.mode[2])\n",
    "            jtrue(x, y)\n",
    "        elseif oc.instr == 6\n",
    "            x = load(program[pc+1], oc.mode[1])\n",
    "            y = load(program[pc+2], oc.mode[2])\n",
    "            jfalse(x, y)\n",
    "            \n",
    "        elseif oc.instr == 7\n",
    "            x = load(program[pc+1], oc.mode[1])\n",
    "            y = load(program[pc+2], oc.mode[2])\n",
    "            store(lt(x,y), program[pc+3], oc.mode[3])\n",
    "            \n",
    "        elseif oc.instr == 8\n",
    "            x = load(program[pc+1], oc.mode[1])\n",
    "            y = load(program[pc+2], oc.mode[2])\n",
    "            store(eq(x,y), program[pc+3], oc.mode[3])\n",
    "            \n",
    "        elseif oc.instr == 9\n",
    "            rel_base += load(program[pc+1], oc.mode[1])\n",
    "            \n",
    "        \n",
    "        else\n",
    "            @error \"Something went wrong! Got code $(oc.instr).\"\n",
    "        end\n",
    "        \n",
    "        pc += (jump_flag ? 0 : oc.N+1)\n",
    "    end\n",
    "    println(\"Computer finished!\")\n",
    "    close(input)\n",
    "    close(output)\n",
    "end"
   ]
  },
  {
   "cell_type": "code",
   "execution_count": 64,
   "metadata": {},
   "outputs": [
    {
     "data": {
      "text/plain": [
       "run_computer (generic function with 2 methods)"
      ]
     },
     "execution_count": 64,
     "metadata": {},
     "output_type": "execute_result"
    }
   ],
   "source": [
    "function run_computer(program::Array{Int, 1}, input::Array{Int, 1})\n",
    "    \n",
    "    output = Int[]\n",
    "    input_chan = Channel{Int}(1000)\n",
    "    output_chan = Channel{Int}(1000)\n",
    "    \n",
    "    @sync begin\n",
    "        @async for inp = input\n",
    "            put!(input_chan, inp)\n",
    "        end\n",
    "\n",
    "        comp_task = @async intcode_computer(copy(program), input_chan, output_chan)\n",
    "\n",
    "        for outp in output_chan\n",
    "            push!(output, outp)\n",
    "        end\n",
    "    end\n",
    "    return output\n",
    "end"
   ]
  },
  {
   "cell_type": "code",
   "execution_count": 65,
   "metadata": {},
   "outputs": [
    {
     "name": "stdout",
     "output_type": "stream",
     "text": [
      "Computer finished!\n",
      "  0.337226 seconds (405.41 k allocations: 19.573 MiB, 1.84% gc time)\n"
     ]
    },
    {
     "data": {
      "text/plain": [
       "1-element Array{Int64,1}:\n",
       " 1000"
      ]
     },
     "execution_count": 65,
     "metadata": {},
     "output_type": "execute_result"
    }
   ],
   "source": [
    "program = [3,21,1008,21,8,20,1005,20,22,107,8,21,20,1006,20,31,\n",
    "1106,0,36,98,0,0,1002,21,125,20,4,20,1105,1,46,104,\n",
    "999,1105,1,46,1101,1000,1,20,4,20,1105,1,46,98,99]\n",
    "@time run_computer(program, [8])"
   ]
  },
  {
   "cell_type": "code",
   "execution_count": 66,
   "metadata": {},
   "outputs": [
    {
     "name": "stdout",
     "output_type": "stream",
     "text": [
      "Computer finished!\n",
      "  0.005601 seconds (1.91 k allocations: 113.864 KiB)\n"
     ]
    },
    {
     "data": {
      "text/plain": [
       "true"
      ]
     },
     "execution_count": 66,
     "metadata": {},
     "output_type": "execute_result"
    }
   ],
   "source": [
    "program = [109,1,204,-1,1001,100,1,100,1008,100,16,101,1006,101,0,99]\n",
    "@time output = run_computer(program, [])\n",
    "program == output"
   ]
  },
  {
   "cell_type": "code",
   "execution_count": 67,
   "metadata": {},
   "outputs": [
    {
     "name": "stdout",
     "output_type": "stream",
     "text": [
      "Computer finished!\n",
      "  0.000287 seconds (80 allocations: 6.984 KiB)\n"
     ]
    },
    {
     "data": {
      "text/plain": [
       "16"
      ]
     },
     "execution_count": 67,
     "metadata": {},
     "output_type": "execute_result"
    }
   ],
   "source": [
    "program = [1102,34915192,34915192,7,4,7,99,0]\n",
    "@time output = run_computer(program, [])\n",
    "length(digits(output[1]))"
   ]
  },
  {
   "cell_type": "code",
   "execution_count": 68,
   "metadata": {},
   "outputs": [
    {
     "name": "stdout",
     "output_type": "stream",
     "text": [
      "Computer finished!\n",
      "  0.000277 seconds (68 allocations: 4.891 KiB)\n"
     ]
    },
    {
     "data": {
      "text/plain": [
       "true"
      ]
     },
     "execution_count": 68,
     "metadata": {},
     "output_type": "execute_result"
    }
   ],
   "source": [
    "program = [104,1125899906842624,99]\n",
    "@time output = run_computer(program, [])\n",
    "output[1] == program[2]"
   ]
  },
  {
   "cell_type": "code",
   "execution_count": 69,
   "metadata": {},
   "outputs": [],
   "source": [
    "input = readdlm(\"inputs/day9.txt\", ',', Int)[:];"
   ]
  },
  {
   "cell_type": "code",
   "execution_count": 72,
   "metadata": {},
   "outputs": [
    {
     "name": "stdout",
     "output_type": "stream",
     "text": [
      "Computer finished!\n",
      "  0.000657 seconds (2.23 k allocations: 350.484 KiB)\n"
     ]
    },
    {
     "data": {
      "text/plain": [
       "1-element Array{Int64,1}:\n",
       " 3063082071"
      ]
     },
     "execution_count": 72,
     "metadata": {},
     "output_type": "execute_result"
    }
   ],
   "source": [
    "@time output = run_computer(input, [1])"
   ]
  },
  {
   "cell_type": "code",
   "execution_count": 73,
   "metadata": {},
   "outputs": [
    {
     "name": "stdout",
     "output_type": "stream",
     "text": [
      "Computer finished!\n",
      "  0.330246 seconds (5.12 M allocations: 217.176 MiB, 7.99% gc time)\n"
     ]
    },
    {
     "data": {
      "text/plain": [
       "1-element Array{Int64,1}:\n",
       " 81348"
      ]
     },
     "execution_count": 73,
     "metadata": {},
     "output_type": "execute_result"
    }
   ],
   "source": [
    "@time output = run_computer(input, [2])"
   ]
  },
  {
   "cell_type": "code",
   "execution_count": null,
   "metadata": {},
   "outputs": [],
   "source": []
  }
 ],
 "metadata": {
  "kernelspec": {
   "display_name": "Julia 1.1.0",
   "language": "julia",
   "name": "julia-1.1"
  },
  "language_info": {
   "file_extension": ".jl",
   "mimetype": "application/julia",
   "name": "julia",
   "version": "1.1.0"
  }
 },
 "nbformat": 4,
 "nbformat_minor": 2
}
