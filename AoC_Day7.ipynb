{
 "cells": [
  {
   "cell_type": "markdown",
   "metadata": {},
   "source": [
    "## Day 7 "
   ]
  },
  {
   "cell_type": "code",
   "execution_count": 9,
   "metadata": {},
   "outputs": [],
   "source": [
    "using DelimitedFiles"
   ]
  },
  {
   "cell_type": "code",
   "execution_count": 5,
   "metadata": {},
   "outputs": [
    {
     "data": {
      "text/plain": [
       "intcode_computer (generic function with 1 method)"
      ]
     },
     "execution_count": 5,
     "metadata": {},
     "output_type": "execute_result"
    }
   ],
   "source": [
    "rndict = Dict(1 => 3, 2 => 3, \n",
    "              3 => 1, 4 => 1, \n",
    "              5 => 2, 6 => 2, \n",
    "              7 => 3, 8 => 3,\n",
    "              99 => 0)\n",
    "\n",
    "struct OpCode\n",
    "    instr::Int\n",
    "    mode::Array{Int, 1}\n",
    "    N::Int\n",
    "end\n",
    "\n",
    "function OpCode(c::Int)\n",
    "    digs = digits(c)\n",
    "    oc = digs[1] + (length(digs) > 1 ? 10*digs[2] : 0)\n",
    "    N = rndict[oc]\n",
    "    mode = zeros(Int, N)\n",
    "    mode[1:length(digs[3:end])] = digs[3:end]\n",
    "    return OpCode(oc, mode, N)\n",
    "end \n",
    "\n",
    "\n",
    "function intcode_computer(program, input::Channel{Int}, output::Channel{Int}; pc=1, name=\"A\")\n",
    "    jump_flag = false\n",
    "    outs = []\n",
    "    \n",
    "    function load(dst)\n",
    "        inp = take!(input)\n",
    "        program[dst] = inp\n",
    "    end\n",
    "    \n",
    "    function store(data)\n",
    "        put!(output, data)    \n",
    "    end    \n",
    "    \n",
    "    function jtrue(x, y)\n",
    "        if x != 0 \n",
    "            pc = y+1\n",
    "            jump_flag = true\n",
    "        end\n",
    "    end\n",
    "    \n",
    "    function jfalse(x, y)\n",
    "        if x == 0  \n",
    "            pc = y+1 \n",
    "            jump_flag = true\n",
    "        end\n",
    "    end\n",
    "    \n",
    "    lt(x, y) = Int(x < y)\n",
    "    \n",
    "    eq(x, y) = Int(x == y)\n",
    "        \n",
    "    \n",
    "    while program[pc] != 99 && pc < length(program)\n",
    "        jump_flag = false\n",
    "        oc = OpCode(program[pc])     \n",
    "        #println(oc)\n",
    "\n",
    "        if oc.N == 3 || oc.N == 2\n",
    "                    \n",
    "            x, y = program[pc+1:pc+2]\n",
    "            \n",
    "            a = oc.mode[1] == 0 ? program[x+1] : x\n",
    "            b = oc.mode[2] == 0 ? program[y+1] : y\n",
    "            \n",
    "            #println(\"A = $(a), B = $(b)\")\n",
    "                        \n",
    "            if oc.N == 3\n",
    "                r = program[pc+3]\n",
    "                if oc.mode[3] == 1\n",
    "                    error(\"Invalide modesetting for R register!\")\n",
    "                end\n",
    "            #println(\"R = $(r)\")\n",
    "            end\n",
    "            \n",
    "            if oc.instr == 1\n",
    "                program[r+1] = a+b\n",
    "            elseif oc.instr == 2\n",
    "                program[r+1] = a*b\n",
    "            elseif oc.instr == 5\n",
    "                jtrue(a, b)\n",
    "            elseif oc.instr == 6\n",
    "                jfalse(a, b)\n",
    "            elseif oc.instr == 7\n",
    "                program[r+1] = lt(a,b)\n",
    "            elseif oc.instr == 8\n",
    "                program[r+1] = eq(a,b)\n",
    "            end\n",
    "            \n",
    "            \n",
    "        elseif oc.N == 1\n",
    "            x = program[pc+1]\n",
    "            #println(\"X = $(x)\")\n",
    "            if oc.instr == 3\n",
    "                load(x+1)\n",
    "                #println(\"loaded to $(x+1)\")\n",
    "            elseif oc.instr == 4\n",
    "                if oc.mode[1] == 1\n",
    "                    store(x)\n",
    "                else\n",
    "                    store(program[x+1])\n",
    "                end\n",
    "            end\n",
    "        else\n",
    "            @error \"Something went wrong! Got code $(oc.instr).\"\n",
    "        end\n",
    "        pc += (jump_flag ? 0 : oc.N+1)\n",
    "        #println(\"PC = $(pc)\")\n",
    "    end\n",
    "    #println(\"Computer $(name) finished, output is $(outs[1])\")\n",
    "    #put!(output, outs[1])\n",
    "    #println(output)\n",
    "end"
   ]
  },
  {
   "cell_type": "code",
   "execution_count": 6,
   "metadata": {},
   "outputs": [
    {
     "data": {
      "text/plain": [
       "amplifiers_linear (generic function with 1 method)"
      ]
     },
     "execution_count": 6,
     "metadata": {},
     "output_type": "execute_result"
    }
   ],
   "source": [
    "function amplifiers_linear(phases, program)\n",
    "    chans = [Channel{Int}(2) for x = 1:6]\n",
    "    \n",
    "    for j=1:5\n",
    "        put!(chans[j], phases[j])\n",
    "    end\n",
    "    \n",
    "    put!(chans[1], 0)\n",
    "        \n",
    "    @async intcode_computer(copy(program), chans[1], chans[2], name=\"A\") #A\n",
    "    @async intcode_computer(copy(program), chans[2], chans[3], name=\"B\") #B\n",
    "    @async intcode_computer(copy(program), chans[3], chans[4], name=\"C\") #C\n",
    "    @async intcode_computer(copy(program), chans[4], chans[5], name=\"D\") #D\n",
    "    @async intcode_computer(copy(program), chans[5], chans[6], name=\"E\") #E\n",
    "    \n",
    "    return take!(chans[6])\n",
    "end"
   ]
  },
  {
   "cell_type": "code",
   "execution_count": 7,
   "metadata": {},
   "outputs": [
    {
     "data": {
      "text/plain": [
       "43210"
      ]
     },
     "execution_count": 7,
     "metadata": {},
     "output_type": "execute_result"
    }
   ],
   "source": [
    "program = [3,15,3,16,1002,16,10,16,1,16,15,15,4,15,99,0,0]\n",
    "phases = [4,3,2,1,0]\n",
    "amplifiers_linear(phases, program)"
   ]
  },
  {
   "cell_type": "code",
   "execution_count": 10,
   "metadata": {},
   "outputs": [],
   "source": [
    "using Combinatorics\n",
    "phases = permutations([0,1,2,3,4])\n",
    "program = readdlm(\"inputs/day7.txt\", ',', Int)[:];"
   ]
  },
  {
   "cell_type": "code",
   "execution_count": 13,
   "metadata": {},
   "outputs": [
    {
     "data": {
      "text/plain": [
       "13848"
      ]
     },
     "execution_count": 13,
     "metadata": {},
     "output_type": "execute_result"
    }
   ],
   "source": [
    "maximum([amplifiers_linear(p, program) for p in phases])"
   ]
  },
  {
   "cell_type": "code",
   "execution_count": 14,
   "metadata": {},
   "outputs": [
    {
     "data": {
      "text/plain": [
       "amplifiers_feedback (generic function with 1 method)"
      ]
     },
     "execution_count": 14,
     "metadata": {},
     "output_type": "execute_result"
    }
   ],
   "source": [
    "function amplifiers_feedback(phases, program)\n",
    "    chans = [Channel{Int}(2) for x = 1:5]\n",
    "    \n",
    "    for j=1:5\n",
    "        put!(chans[j], phases[j])\n",
    "    end\n",
    "    \n",
    "    put!(chans[1], 0)\n",
    "    \n",
    "    @sync begin\n",
    "        @async intcode_computer(copy(program), chans[1], chans[2], name=\"A\") #A\n",
    "        @async intcode_computer(copy(program), chans[2], chans[3], name=\"B\") #B\n",
    "        @async intcode_computer(copy(program), chans[3], chans[4], name=\"C\") #C\n",
    "        @async intcode_computer(copy(program), chans[4], chans[5], name=\"D\") #D\n",
    "        @async intcode_computer(copy(program), chans[5], chans[1], name=\"E\") #E\n",
    "    end\n",
    "    \n",
    "    return take!(chans[1])\n",
    "end"
   ]
  },
  {
   "cell_type": "code",
   "execution_count": 16,
   "metadata": {},
   "outputs": [
    {
     "data": {
      "text/plain": [
       "139629729"
      ]
     },
     "execution_count": 16,
     "metadata": {},
     "output_type": "execute_result"
    }
   ],
   "source": [
    "program = [3,26,1001,26,-4,26,3,27,1002,27,2,27,1,27,26,\n",
    "27,4,27,1001,28,-1,28,1005,28,6,99,0,0,5]\n",
    "phases = [9,8,7,6,5]\n",
    "amplifiers_feedback(phases, program)"
   ]
  },
  {
   "cell_type": "code",
   "execution_count": 17,
   "metadata": {},
   "outputs": [
    {
     "data": {
      "text/plain": [
       "18216"
      ]
     },
     "execution_count": 17,
     "metadata": {},
     "output_type": "execute_result"
    }
   ],
   "source": [
    "program = [3,52,1001,52,-5,52,3,53,1,52,56,54,1007,54,5,55,1005,55,26,1001,54,\n",
    "-5,54,1105,1,12,1,53,54,53,1008,54,0,55,1001,55,1,55,2,53,55,53,4,\n",
    "53,1001,56,-1,56,1005,56,6,99,0,0,0,0,10]\n",
    "phases = [9,7,8,5,6]\n",
    "amplifiers_feedback(phases, program)"
   ]
  },
  {
   "cell_type": "code",
   "execution_count": 18,
   "metadata": {},
   "outputs": [
    {
     "data": {
      "text/plain": [
       "12932154"
      ]
     },
     "execution_count": 18,
     "metadata": {},
     "output_type": "execute_result"
    }
   ],
   "source": [
    "phases = permutations([5,6,7,8,9])\n",
    "program = readdlm(\"inputs/day7.txt\", ',', Int)[:];\n",
    "maximum([amplifiers_feedback(p, program) for p in phases])"
   ]
  },
  {
   "cell_type": "code",
   "execution_count": null,
   "metadata": {},
   "outputs": [],
   "source": []
  }
 ],
 "metadata": {
  "kernelspec": {
   "display_name": "Julia 1.3.0",
   "language": "julia",
   "name": "julia-1.3"
  },
  "language_info": {
   "file_extension": ".jl",
   "mimetype": "application/julia",
   "name": "julia",
   "version": "1.3.0"
  }
 },
 "nbformat": 4,
 "nbformat_minor": 2
}
