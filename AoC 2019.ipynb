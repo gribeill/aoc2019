{
 "cells": [
  {
   "cell_type": "code",
   "execution_count": 78,
   "metadata": {},
   "outputs": [],
   "source": [
    "using DelimitedFiles\n",
    "#using PyPlot"
   ]
  },
  {
   "cell_type": "markdown",
   "metadata": {},
   "source": [
    "## Day 1"
   ]
  },
  {
   "cell_type": "code",
   "execution_count": 20,
   "metadata": {},
   "outputs": [
    {
     "data": {
      "text/plain": [
       "3212842"
      ]
     },
     "execution_count": 20,
     "metadata": {},
     "output_type": "execute_result"
    }
   ],
   "source": [
    "input = readdlm(\"inputs/day1.txt\", ',', Int)\n",
    "mapreduce(x -> floor(Int, x / 3) - 2, +, input)"
   ]
  },
  {
   "cell_type": "code",
   "execution_count": 26,
   "metadata": {},
   "outputs": [
    {
     "data": {
      "text/plain": [
       "4816402"
      ]
     },
     "execution_count": 26,
     "metadata": {},
     "output_type": "execute_result"
    }
   ],
   "source": [
    "function total_fuel(mass)\n",
    "    tf = 0\n",
    "    f(x) = floor(Int, x / 3) - 2\n",
    "    m = mass\n",
    "    while f(m) > 0\n",
    "        ff = f(m)\n",
    "        tf += ff\n",
    "        m = ff\n",
    "    end\n",
    "    return tf\n",
    "end\n",
    "mapreduce(total_fuel, +, input)"
   ]
  },
  {
   "cell_type": "markdown",
   "metadata": {},
   "source": [
    "## Day 2"
   ]
  },
  {
   "cell_type": "code",
   "execution_count": 65,
   "metadata": {},
   "outputs": [
    {
     "data": {
      "text/plain": [
       "computer (generic function with 1 method)"
      ]
     },
     "execution_count": 65,
     "metadata": {},
     "output_type": "execute_result"
    }
   ],
   "source": [
    "function computer(program)\n",
    "    pc = 1\n",
    "    while program[pc] != 99\n",
    "        opcode, x, y, r = program[pc:pc+3]\n",
    "        if opcode == 1\n",
    "            program[r+1] = program[x+1]+program[y+1]\n",
    "        elseif opcode == 2\n",
    "            program[r+1] = program[x+1]*program[y+1]\n",
    "        else\n",
    "            @error \"Something went wrong! Got code $(opcode).\"\n",
    "        end\n",
    "        pc += 4\n",
    "    end\n",
    "    return program\n",
    "end"
   ]
  },
  {
   "cell_type": "code",
   "execution_count": 68,
   "metadata": {},
   "outputs": [
    {
     "name": "stdout",
     "output_type": "stream",
     "text": [
      "Position 0 has: 12490719"
     ]
    }
   ],
   "source": [
    "input = readdlm(\"inputs/day2.txt\", ',', Int)\n",
    "input[2] = 12\n",
    "input[3] = 2\n",
    "result = computer(input)\n",
    "print(\"Position 0 has: $(result[1])\")"
   ]
  },
  {
   "cell_type": "code",
   "execution_count": 79,
   "metadata": {},
   "outputs": [
    {
     "data": {
      "text/plain": [
       "test_comp (generic function with 1 method)"
      ]
     },
     "execution_count": 79,
     "metadata": {},
     "output_type": "execute_result"
    }
   ],
   "source": [
    "initial_state = readdlm(\"inputs/day2.txt\", ',', Int)\n",
    "\n",
    "function test_comp(input, a, b)\n",
    "    input[2] = a\n",
    "    input[3] = b\n",
    "    return computer(input)[1]\n",
    "end"
   ]
  },
  {
   "cell_type": "code",
   "execution_count": 82,
   "metadata": {},
   "outputs": [
    {
     "name": "stdout",
     "output_type": "stream",
     "text": [
      "Found state: 2003.\n"
     ]
    }
   ],
   "source": [
    "for a=0:99\n",
    "    for b=0:99\n",
    "        if 19690720 == test_comp(copy(initial_state), a, b)\n",
    "            println(\"Found state: $(100*a + b).\")\n",
    "            break\n",
    "        end\n",
    "    end\n",
    "end"
   ]
  },
  {
   "cell_type": "markdown",
   "metadata": {},
   "source": [
    "## Day 3"
   ]
  },
  {
   "cell_type": "code",
   "execution_count": 239,
   "metadata": {},
   "outputs": [
    {
     "data": {
      "text/plain": [
       "find_intersection_delays (generic function with 1 method)"
      ]
     },
     "execution_count": 239,
     "metadata": {},
     "output_type": "execute_result"
    }
   ],
   "source": [
    "struct Point\n",
    "    x::Int\n",
    "    y::Int\n",
    "end\n",
    "\n",
    "function manhattan(a::Point, b::Point)\n",
    "    return abs(a.x-b.x) + abs(a.y-b.y)\n",
    "end\n",
    "\n",
    "struct Segment\n",
    "    start::Point\n",
    "    stop::Point\n",
    "end\n",
    "\n",
    "function sorted_x(s::Segment)\n",
    "    return sort([s.start.x, s.stop.x])\n",
    "end\n",
    "\n",
    "function sorted_y(s::Segment)\n",
    "    return sort([s.start.y, s.stop.y])\n",
    "end\n",
    "\n",
    "function move(p::Point, dir::Symbol, d::Int)\n",
    "    if dir == :R\n",
    "        stop = Point(p.x+d, p.y)\n",
    "    elseif dir == :L\n",
    "        stop = Point(p.x-d, p.y)\n",
    "    elseif dir == :U\n",
    "        stop = Point(p.x, p.y+d)\n",
    "    elseif dir == :D\n",
    "        stop = Point(p.x, p.y-d)\n",
    "    end\n",
    "    return Segment(p, stop)\n",
    "end\n",
    "\n",
    "function wire_dir(s::Segment)\n",
    "    if s.start.x == s.stop.x \n",
    "        return :V\n",
    "    else\n",
    "        return :H\n",
    "    end\n",
    "end\n",
    "\n",
    "function intersect(s1::Segment, s2::Segment)\n",
    "    no_intersection = (false, Point(0, 0))\n",
    "    if wire_dir(s1) == wire_dir(s2)\n",
    "        return no_intersection #for now assume collinear wires cannot intersect\n",
    "    else\n",
    "        if wire_dir(s1) == :H\n",
    "            x1, x2 = sorted_x(s1)\n",
    "            y1, y2 = sorted_y(s2)\n",
    "            if (x1 <= s2.start.x <= x2) && (y1 <= s1.start.y <= y2)\n",
    "                return (true, Point(s2.start.x, s1.start.y))\n",
    "            else\n",
    "                return no_intersection\n",
    "            end\n",
    "        else\n",
    "            x1, x2 = sorted_x(s2)\n",
    "            y1, y2 = sorted_y(s1)\n",
    "            if (x1 <= s1.start.x <= x2) && (y1 <= s2.start.y <= y2)\n",
    "                return (true, Point(s1.start.x, s2.start.y))\n",
    "            else\n",
    "                return no_intersection\n",
    "            end\n",
    "        end\n",
    "    end\n",
    "end\n",
    "\n",
    "function parse_input_moves(input)\n",
    "    moves = split(input, ',')\n",
    "    return [(Symbol(m[1]), parse(Int, m[2:end])) for m in moves]\n",
    "end\n",
    "\n",
    "function build_wires(moves)\n",
    "    wires = Array{Segment, 1}()\n",
    "    start = Point(0,0)\n",
    "    for m = moves\n",
    "        new_wire = move(start, m...)\n",
    "        push!(wires, new_wire)\n",
    "        start = new_wire.stop\n",
    "    end\n",
    "    return wires\n",
    "end     \n",
    "\n",
    "function plot_wires(w1, w2)\n",
    "    x = [0]\n",
    "    y = [0]\n",
    "    for w=w1\n",
    "        push!(x, w.stop.x)\n",
    "        push!(y, w.stop.y)\n",
    "    end\n",
    "    plot(x,y,\"ro-\")\n",
    "    x = [0]\n",
    "    y = [0]\n",
    "    for w=w2\n",
    "        push!(x, w.stop.x)\n",
    "        push!(y, w.stop.y)\n",
    "    end\n",
    "    plot(x,y,\"bo-\")\n",
    "end\n",
    "\n",
    "function find_interection_distances(wires1, wires2)\n",
    "    intersections = []\n",
    "    for w1 = wires1\n",
    "        for w2 = wires2\n",
    "            test = intersect(w1, w2)\n",
    "            if test[1] \n",
    "                push!(intersections, test[2])\n",
    "                #print(test[2])\n",
    "            end\n",
    "        end\n",
    "    end\n",
    "    dst(p) = manhattan(p, Point(0,0))\n",
    "    return sort([dst(p) for p in intersections if dst(p)>0])\n",
    "end\n",
    "                \n",
    "function distance_along_wire(w::Segment, p::Point)\n",
    "    return manhattan(w.start, p)\n",
    "end\n",
    "                \n",
    "function wire_length(w::Segment)\n",
    "    return manhattan(w.start, w.stop)\n",
    "end\n",
    "                                \n",
    "function find_intersection_delays(wires1, wires2)\n",
    "     delays = []\n",
    "     for (j, w1) = enumerate(wires1)\n",
    "        for (k, w2) = enumerate(wires2)\n",
    "            test = intersect(w1, w2)\n",
    "            if test[1]\n",
    "                if test[2] == Point(0,0)\n",
    "                    continue\n",
    "                end\n",
    "                #println(test[2])\n",
    "                prev_delay_1 = mapreduce(wire_length, +, wires1[1:j-1])\n",
    "                prev_delay_2 = mapreduce(wire_length, +, wires2[1:k-1])\n",
    "                #println(prev_delay_1, \" \", prev_delay_2)\n",
    "                d1 = distance_along_wire(w1, test[2])\n",
    "                d2 = distance_along_wire(w2, test[2])\n",
    "                #println(d1, \" \", d2)\n",
    "                push!(delays, d1+d2+prev_delay_1+prev_delay_2)\n",
    "            end\n",
    "        end    \n",
    "    end\n",
    "    return sort(delays)                \n",
    "end"
   ]
  },
  {
   "cell_type": "code",
   "execution_count": 240,
   "metadata": {},
   "outputs": [
    {
     "data": {
      "text/plain": [
       "2-element Array{Any,1}:\n",
       " 30\n",
       " 40"
      ]
     },
     "execution_count": 240,
     "metadata": {},
     "output_type": "execute_result"
    }
   ],
   "source": [
    "L1 = parse_input_moves(\"R8,U5,L5,D3\")\n",
    "L2 = parse_input_moves(\"U7,R6,D4,L4\")\n",
    "W1 = build_wires(L1)\n",
    "W2 = build_wires(L2);\n",
    "find_intersection_delays(W1,W2)"
   ]
  },
  {
   "cell_type": "code",
   "execution_count": 241,
   "metadata": {},
   "outputs": [
    {
     "data": {
      "text/plain": [
       "4-element Array{Any,1}:\n",
       " 610\n",
       " 624\n",
       " 726\n",
       " 850"
      ]
     },
     "execution_count": 241,
     "metadata": {},
     "output_type": "execute_result"
    }
   ],
   "source": [
    "L1 = parse_input_moves(\"R75,D30,R83,U83,L12,D49,R71,U7,L72\")\n",
    "L2 = parse_input_moves(\"U62,R66,U55,R34,D71,R55,D58,R83\")\n",
    "W1 = build_wires(L1)\n",
    "W2 = build_wires(L2);\n",
    "find_interection_distances(W1,W2);\n",
    "find_intersection_delays(W1,W2)"
   ]
  },
  {
   "cell_type": "code",
   "execution_count": 242,
   "metadata": {},
   "outputs": [
    {
     "data": {
      "text/plain": [
       "5-element Array{Any,1}:\n",
       " 410\n",
       " 516\n",
       " 636\n",
       " 650\n",
       " 700"
      ]
     },
     "execution_count": 242,
     "metadata": {},
     "output_type": "execute_result"
    }
   ],
   "source": [
    "L1 = parse_input_moves(\"R98,U47,R26,D63,R33,U87,L62,D20,R33,U53,R51\")\n",
    "L2 = parse_input_moves(\"U98,R91,D20,R16,D67,R40,U7,R15,U6,R7\")\n",
    "W1 = build_wires(L1)\n",
    "W2 = build_wires(L2);\n",
    "find_interection_distances(W1,W2);\n",
    "find_intersection_delays(W1,W2)"
   ]
  },
  {
   "cell_type": "code",
   "execution_count": 245,
   "metadata": {},
   "outputs": [
    {
     "name": "stdout",
     "output_type": "stream",
     "text": [
      "Distance to nearest intersection: 1626\n",
      "Delay to nearest intersection: 27330\n"
     ]
    }
   ],
   "source": [
    "input = readlines(\"inputs/day3.txt\")\n",
    "L1 = parse_input_moves(input[1])\n",
    "L2 = parse_input_moves(input[2])\n",
    "W1 = build_wires(L1)\n",
    "W2 = build_wires(L2);\n",
    "its = find_interection_distances(W1,W2);\n",
    "println(\"Distance to nearest intersection: $(its[1])\")\n",
    "dels = find_intersection_delays(W1,W2);\n",
    "println(\"Delay to nearest intersection: $(dels[1])\")"
   ]
  },
  {
   "cell_type": "markdown",
   "metadata": {},
   "source": [
    "## Day 4"
   ]
  },
  {
   "cell_type": "code",
   "execution_count": 18,
   "metadata": {},
   "outputs": [
    {
     "data": {
      "text/plain": [
       "is_valid (generic function with 1 method)"
      ]
     },
     "execution_count": 18,
     "metadata": {},
     "output_type": "execute_result"
    }
   ],
   "source": [
    "function is_valid(num::Int)\n",
    "    d = reverse(digits(num))\n",
    "    return any((d[j] == d[j+1] for j=1:length(d)-1)) && all((d[j] <= d[j+1] for j=1:length(d)-1))\n",
    "end"
   ]
  },
  {
   "cell_type": "code",
   "execution_count": 42,
   "metadata": {},
   "outputs": [
    {
     "data": {
      "text/plain": [
       "1154"
      ]
     },
     "execution_count": 42,
     "metadata": {},
     "output_type": "execute_result"
    }
   ],
   "source": [
    "count((is_valid(n) for n=240920:789857))"
   ]
  },
  {
   "cell_type": "code",
   "execution_count": 44,
   "metadata": {},
   "outputs": [
    {
     "data": {
      "text/plain": [
       "is_valid2 (generic function with 1 method)"
      ]
     },
     "execution_count": 44,
     "metadata": {},
     "output_type": "execute_result"
    }
   ],
   "source": [
    "function has_repeats(d::Array{Int, 1})\n",
    "    return any((count(x -> x==d[j], d) == 2 for j=1:length(d)-1 if d[j]==d[j+1]))\n",
    "end\n",
    "\n",
    "function is_valid2(num::Int)\n",
    "    d = reverse(digits(num))\n",
    "    return all((d[j] <= d[j+1] for j=1:length(d)-1)) && has_repeats(d)\n",
    "end    "
   ]
  },
  {
   "cell_type": "code",
   "execution_count": 45,
   "metadata": {},
   "outputs": [
    {
     "data": {
      "text/plain": [
       "750"
      ]
     },
     "execution_count": 45,
     "metadata": {},
     "output_type": "execute_result"
    }
   ],
   "source": [
    "count((is_valid2(n) for n=240920:789857))"
   ]
  },
  {
   "cell_type": "markdown",
   "metadata": {},
   "source": [
    "## Day 5"
   ]
  },
  {
   "cell_type": "code",
   "execution_count": 94,
   "metadata": {},
   "outputs": [
    {
     "data": {
      "text/plain": [
       "computer2 (generic function with 1 method)"
      ]
     },
     "execution_count": 94,
     "metadata": {},
     "output_type": "execute_result"
    }
   ],
   "source": [
    "rndict = Dict(1 => 3, 2 => 3, \n",
    "              3 => 1, 4 => 1, \n",
    "              5 => 2, 6 => 2, \n",
    "              7 => 3, 8 => 3,\n",
    "              99 => 0)\n",
    "\n",
    "struct OpCode\n",
    "    instr::Int\n",
    "    mode::Array{Int, 1}\n",
    "    N::Int\n",
    "end\n",
    "\n",
    "function OpCode(c::Int)\n",
    "    digs = digits(c)\n",
    "    oc = digs[1] + (length(digs) > 1 ? 10*digs[2] : 0)\n",
    "    N = rndict[oc]\n",
    "    mode = zeros(Int, N)\n",
    "    mode[1:length(digs[3:end])] = digs[3:end]\n",
    "    return OpCode(oc, mode, N)\n",
    "end \n",
    "\n",
    "\n",
    "function computer2(program, input; pc=1)\n",
    "    #pc = 1\n",
    "    jump_flag = false\n",
    "    output = []\n",
    "    input_idx = 1\n",
    "    \n",
    "    function load(dst)\n",
    "        program[dst] = input[input_idx]\n",
    "        input_idx += 1\n",
    "    end\n",
    "    \n",
    "    function store(data)\n",
    "        push!(output, data)\n",
    "    end    \n",
    "    \n",
    "    function jtrue(x, y)\n",
    "        if x != 0 \n",
    "            pc = y+1\n",
    "            jump_flag = true\n",
    "        end\n",
    "    end\n",
    "    \n",
    "    function jfalse(x, y)\n",
    "        if x == 0  \n",
    "            pc = y+1 \n",
    "            jump_flag = true\n",
    "        end\n",
    "    end\n",
    "    \n",
    "    lt(x, y) = Int(x < y)\n",
    "    \n",
    "    eq(x, y) = Int(x == y)\n",
    "        \n",
    "    \n",
    "    while program[pc] != 99 && pc < length(program)\n",
    "        jump_flag = false\n",
    "        oc = OpCode(program[pc])     \n",
    "        println(oc)\n",
    "\n",
    "        if oc.N == 3 || oc.N == 2\n",
    "                    \n",
    "            x, y = program[pc+1:pc+2]\n",
    "            \n",
    "            a = oc.mode[1] == 0 ? program[x+1] : x\n",
    "            b = oc.mode[2] == 0 ? program[y+1] : y\n",
    "            \n",
    "            println(\"A = $(a), B = $(b)\")\n",
    "                        \n",
    "            if oc.N == 3\n",
    "                r = program[pc+3]\n",
    "                if oc.mode[3] == 1\n",
    "                    error(\"Invalide modesetting for R register!\")\n",
    "                end\n",
    "            println(\"R = $(r)\")\n",
    "            end\n",
    "            \n",
    "            if oc.instr == 1\n",
    "                program[r+1] = a+b\n",
    "            elseif oc.instr == 2\n",
    "                program[r+1] = a*b\n",
    "            elseif oc.instr == 5\n",
    "                jtrue(a, b)\n",
    "            elseif oc.instr == 6\n",
    "                jfalse(a, b)\n",
    "            elseif oc.instr == 7\n",
    "                program[r+1] = lt(a,b)\n",
    "            elseif oc.instr == 8\n",
    "                program[r+1] = eq(a,b)\n",
    "            end\n",
    "            \n",
    "            \n",
    "        elseif oc.N == 1\n",
    "            x = program[pc+1]\n",
    "            println(\"X = $(x)\")\n",
    "            if oc.instr == 3\n",
    "                load(x+1)\n",
    "                println(\"loaded to $(x+1)\")\n",
    "            elseif oc.instr == 4\n",
    "                if oc.mode[1] == 1\n",
    "                    store(x)\n",
    "                else\n",
    "                    store(program[x+1])\n",
    "                end\n",
    "            end\n",
    "        else\n",
    "            @error \"Something went wrong! Got code $(oc.instr).\"\n",
    "        end\n",
    "        pc += (jump_flag ? 0 : oc.N+1)\n",
    "        println(\"PC = $(pc)\")\n",
    "    end\n",
    "    return program, output, pc\n",
    "end"
   ]
  },
  {
   "cell_type": "code",
   "execution_count": 122,
   "metadata": {},
   "outputs": [],
   "source": [
    "input = readdlm(\"inputs/day5.txt\", ',', Int)[:];"
   ]
  },
  {
   "cell_type": "code",
   "execution_count": 123,
   "metadata": {},
   "outputs": [
    {
     "data": {
      "text/plain": [
       "([3, 21, 1008, 21, 8, 20, 1005, 20, 22, 107  …  1000, 1, 20, 4, 20, 1105, 1, 46, 98, 99], Any[1001])"
      ]
     },
     "execution_count": 123,
     "metadata": {},
     "output_type": "execute_result"
    }
   ],
   "source": [
    "computer2([3,21,1008,21,8,20,1005,20,22,107,8,21,20,1006,20,31,\n",
    "1106,0,36,98,0,0,1002,21,125,20,4,20,1105,1,46,104,\n",
    "999,1105,1,46,1101,1000,1,20,4,20,1105,1,46,98,99], [9])"
   ]
  },
  {
   "cell_type": "code",
   "execution_count": 124,
   "metadata": {},
   "outputs": [
    {
     "data": {
      "text/plain": [
       "([314, 225, 1, 225, 6, 6, 1105, 1, 238, 225  …  224, 674, 1001, 223, 1, 223, 4, 223, 99, 226], Any[3419022])"
      ]
     },
     "execution_count": 124,
     "metadata": {},
     "output_type": "execute_result"
    }
   ],
   "source": [
    "computer2(input, [5])"
   ]
  },
  {
   "cell_type": "markdown",
   "metadata": {},
   "source": [
    "## Day 6"
   ]
  },
  {
   "cell_type": "code",
   "execution_count": 1,
   "metadata": {},
   "outputs": [],
   "source": [
    "mutable struct CB\n",
    "    name::String\n",
    "    orbiters::Array{Union{CB,Nothing}, 1}\n",
    "    orbit_order::Int\n",
    "    parent::Union{CB, Nothing}\n",
    "end"
   ]
  },
  {
   "cell_type": "code",
   "execution_count": 44,
   "metadata": {},
   "outputs": [
    {
     "data": {
      "text/plain": [
       "find_distance (generic function with 1 method)"
      ]
     },
     "execution_count": 44,
     "metadata": {},
     "output_type": "execute_result"
    }
   ],
   "source": [
    "function parse_orbit_map(map)\n",
    "    bodies = Dict()\n",
    "    for orbit=map\n",
    "        a, b = split(orbit, ')')\n",
    "        if b in keys(bodies)\n",
    "            bobj = bodies[b]\n",
    "        else\n",
    "            bobj = CB(b, [], -1, nothing)\n",
    "            bodies[b] = bobj\n",
    "        end\n",
    "        if a in keys(bodies)\n",
    "            aobj = bodies[a]\n",
    "            push!(aobj.orbiters, bobj)\n",
    "        else\n",
    "            aobj = CB(a, [bobj], -1, nothing)\n",
    "            bodies[a] = aobj\n",
    "        end\n",
    "        bobj.parent = aobj\n",
    "    end\n",
    "    \n",
    "    return bodies\n",
    "    \n",
    "end\n",
    "\n",
    "function count_orbits(bodies, head_name=\"COM\")\n",
    "    \n",
    "    function add_orbit(object)\n",
    "        object.orbit_order += 1\n",
    "        for o=object.orbiters\n",
    "            add_orbit(o)\n",
    "        end\n",
    "    end\n",
    "    \n",
    "    for obj=values(bodies)\n",
    "        add_orbit(obj)\n",
    "    end\n",
    "    \n",
    "    total = 0\n",
    "    for obj=values(bodies)\n",
    "        total += obj.orbit_order\n",
    "    end\n",
    "    \n",
    "    return total\n",
    "end\n",
    "\n",
    "function get_edges(object)\n",
    "    edges = isa(object.parent, CB) ? [object.parent.name] : []\n",
    "    for obj in object.orbiters\n",
    "        push!(edges, obj.name)\n",
    "    end\n",
    "    return edges\n",
    "end\n",
    "\n",
    "function find_distance(bodies, start, stop)\n",
    "    distances = Dict()\n",
    "    visited = Dict()\n",
    "    for k = keys(bodies)\n",
    "        distances[k] = 0\n",
    "        visited[k] = false\n",
    "    end\n",
    "    \n",
    "    nodes = []\n",
    "    \n",
    "    push!(nodes, start)\n",
    "    visited[start] = true\n",
    "    \n",
    "    while length(nodes) > 0\n",
    "        n = pop!(nodes)\n",
    "        for edge = get_edges(bodies[n])\n",
    "            if visited[edge]\n",
    "                continue\n",
    "            end\n",
    "            distances[edge] = distances[n] + 1\n",
    "            push!(nodes, edge)\n",
    "            visited[edge] = true\n",
    "        end \n",
    "    end\n",
    "    \n",
    "    return distances[stop]\n",
    "end\n",
    "    \n",
    "    \n",
    "    \n",
    "    \n",
    "    \n",
    "    "
   ]
  },
  {
   "cell_type": "code",
   "execution_count": 5,
   "metadata": {},
   "outputs": [
    {
     "data": {
      "text/plain": [
       "42"
      ]
     },
     "execution_count": 5,
     "metadata": {},
     "output_type": "execute_result"
    }
   ],
   "source": [
    "test = \"\"\"COM)B\n",
    "B)C\n",
    "C)D\n",
    "D)E\n",
    "E)F\n",
    "B)G\n",
    "G)H\n",
    "D)I\n",
    "E)J\n",
    "J)K\n",
    "K)L\"\"\"\n",
    "test_map = split(test, '\\n');\n",
    "bodies = parse_orbit_map(test_map)\n",
    "count_orbits(bodies)"
   ]
  },
  {
   "cell_type": "code",
   "execution_count": 47,
   "metadata": {},
   "outputs": [
    {
     "data": {
      "text/plain": [
       "142915"
      ]
     },
     "execution_count": 47,
     "metadata": {},
     "output_type": "execute_result"
    }
   ],
   "source": [
    "orbit_map = readlines(\"./inputs/day6.txt\");\n",
    "bodies = parse_orbit_map(orbit_map)\n",
    "count_orbits(bodies)"
   ]
  },
  {
   "cell_type": "code",
   "execution_count": 49,
   "metadata": {},
   "outputs": [
    {
     "data": {
      "text/plain": [
       "283"
      ]
     },
     "execution_count": 49,
     "metadata": {},
     "output_type": "execute_result"
    }
   ],
   "source": [
    "find_distance(bodies, \"YOU\", \"SAN\") - 2"
   ]
  },
  {
   "cell_type": "code",
   "execution_count": 45,
   "metadata": {},
   "outputs": [
    {
     "data": {
      "text/plain": [
       "54"
      ]
     },
     "execution_count": 45,
     "metadata": {},
     "output_type": "execute_result"
    }
   ],
   "source": [
    "test2 = \"\"\"COM)B\n",
    "B)C\n",
    "C)D\n",
    "D)E\n",
    "E)F\n",
    "B)G\n",
    "G)H\n",
    "D)I\n",
    "E)J\n",
    "J)K\n",
    "K)L\n",
    "K)YOU\n",
    "I)SAN\"\"\"\n",
    "test_map2 = split(test2, '\\n');\n",
    "bodies = parse_orbit_map(test_map2)\n",
    "count_orbits(bodies)"
   ]
  },
  {
   "cell_type": "code",
   "execution_count": 46,
   "metadata": {},
   "outputs": [
    {
     "data": {
      "text/plain": [
       "6"
      ]
     },
     "execution_count": 46,
     "metadata": {},
     "output_type": "execute_result"
    }
   ],
   "source": [
    "find_distance(bodies, \"YOU\", \"SAN\")"
   ]
  },
  {
   "cell_type": "markdown",
   "metadata": {},
   "source": [
    "## Day 7"
   ]
  },
  {
   "cell_type": "code",
   "execution_count": 54,
   "metadata": {},
   "outputs": [
    {
     "data": {
      "text/plain": [
       "amplifier_output (generic function with 1 method)"
      ]
     },
     "execution_count": 54,
     "metadata": {},
     "output_type": "execute_result"
    }
   ],
   "source": [
    "function amplifier_output(phases, program)\n",
    "    output = 0\n",
    "    for j = 1:5\n",
    "        output = computer2(copy(program), [phases[j], output])[2][1]\n",
    "    end\n",
    "    return output\n",
    "end"
   ]
  },
  {
   "cell_type": "code",
   "execution_count": 58,
   "metadata": {},
   "outputs": [],
   "source": [
    "program = [3,15,3,16,1002,16,10,16,1,16,15,15,4,15,99,0,0]\n",
    "phases = [4,3,2,1,0]\n",
    "@assert amplifier_output(phases, program) == 43210"
   ]
  },
  {
   "cell_type": "code",
   "execution_count": 57,
   "metadata": {},
   "outputs": [],
   "source": [
    "program = [3,23,3,24,1002,24,10,24,1002,23,-1,23,\n",
    "101,5,23,23,1,24,23,23,4,23,99,0,0]\n",
    "phases = [0,1,2,3,4]\n",
    "@assert amplifier_output(phases, program) == 54321"
   ]
  },
  {
   "cell_type": "code",
   "execution_count": 60,
   "metadata": {},
   "outputs": [],
   "source": [
    "program = [3,31,3,32,1002,32,10,32,1001,31,-2,31,1007,31,0,33,\n",
    "1002,33,7,33,1,33,31,31,1,32,31,31,4,31,99,0,0,0]\n",
    "phases = [1,0,4,3,2]\n",
    "@assert amplifier_output(phases, program) == 65210"
   ]
  },
  {
   "cell_type": "code",
   "execution_count": 79,
   "metadata": {},
   "outputs": [],
   "source": [
    "using Combinatorics\n",
    "phases = permutations([0,1,2,3,4])\n",
    "program = readdlm(\"inputs/day7.txt\", ',', Int)[:];"
   ]
  },
  {
   "cell_type": "code",
   "execution_count": 81,
   "metadata": {},
   "outputs": [
    {
     "data": {
      "text/plain": [
       "13848"
      ]
     },
     "execution_count": 81,
     "metadata": {},
     "output_type": "execute_result"
    }
   ],
   "source": [
    "maximum([amplifier_output(p, program) for p in phases])"
   ]
  },
  {
   "cell_type": "code",
   "execution_count": 87,
   "metadata": {},
   "outputs": [
    {
     "data": {
      "text/plain": [
       "amplifier_feedback (generic function with 1 method)"
      ]
     },
     "execution_count": 87,
     "metadata": {},
     "output_type": "execute_result"
    }
   ],
   "source": [
    "function amplifier_feedback(phases, program)\n",
    "    progs = [copy(program) for x = 1:5]\n",
    "    pc = [1 for x=1:5]\n",
    "    output = 0\n",
    "    done = false\n",
    "    iter = 0\n",
    "    while iter < 10000\n",
    "        done = all([progs[j][pc[j]] == 99 for j=1:5])\n",
    "        for idx=1:5\n",
    "            progs[idx], output, pc[idx] = computer2(progs[idx], [phases[idx], output], pc=pc[idx])\n",
    "        end\n",
    "        iter += 1\n",
    "        println(iter)\n",
    "    end\n",
    "    return output, iter\n",
    "end"
   ]
  },
  {
   "cell_type": "code",
   "execution_count": 92,
   "metadata": {},
   "outputs": [
    {
     "data": {
      "text/plain": [
       "5-element Array{Int64,1}:\n",
       " 9\n",
       " 8\n",
       " 7\n",
       " 6\n",
       " 5"
      ]
     },
     "execution_count": 92,
     "metadata": {},
     "output_type": "execute_result"
    }
   ],
   "source": [
    "program = [3,26,1001,26,-4,26,3,27,1002,27,2,27,1,27,26,\n",
    "27,4,27,1001,28,-1,28,1005,28,6,99,0,0,5]\n",
    "phases = [9,8,7,6,5]\n",
    "#amplifier_feedback(phases, program)"
   ]
  },
  {
   "cell_type": "code",
   "execution_count": 95,
   "metadata": {},
   "outputs": [
    {
     "name": "stdout",
     "output_type": "stream",
     "text": [
      "OpCode(3, [0], 1)\n",
      "X = 26\n",
      "loaded to 27\n",
      "PC = 3\n",
      "OpCode(1, [0, 1, 0], 3)\n",
      "A = 0, B = -4\n",
      "R = 26\n",
      "PC = 7\n",
      "OpCode(3, [0], 1)\n",
      "X = 27\n",
      "loaded to 28\n",
      "PC = 9\n",
      "OpCode(2, [0, 1, 0], 3)\n",
      "A = 9, B = 2\n",
      "R = 27\n",
      "PC = 13\n",
      "OpCode(1, [0, 0, 0], 3)\n",
      "A = 18, B = -4\n",
      "R = 27\n",
      "PC = 17\n",
      "OpCode(4, [0], 1)\n",
      "X = 27\n",
      "PC = 19\n",
      "OpCode(1, [0, 1, 0], 3)\n",
      "A = 4, B = -1\n",
      "R = 28\n",
      "PC = 23\n",
      "OpCode(5, [0, 1], 2)\n",
      "A = 3, B = 6\n",
      "PC = 7\n",
      "OpCode(3, [0], 1)\n",
      "X = 27\n"
     ]
    },
    {
     "ename": "BoundsError",
     "evalue": "BoundsError: attempt to access 2-element Array{Int64,1} at index [3]",
     "output_type": "error",
     "traceback": [
      "BoundsError: attempt to access 2-element Array{Int64,1} at index [3]",
      "",
      "Stacktrace:",
      " [1] getindex(::Array{Int64,1}, ::Int64) at ./array.jl:744",
      " [2] (::var\"#load#64\"{Array{Int64,1},Array{Int64,1}})(::Int64) at ./In[94]:30",
      " [3] #computer2#63(::Int64, ::typeof(computer2), ::Array{Int64,1}, ::Array{Int64,1}) at ./In[94]:98",
      " [4] computer2(::Array{Int64,1}, ::Array{Int64,1}) at ./In[94]:25",
      " [5] top-level scope at In[95]:1"
     ]
    }
   ],
   "source": [
    "computer2(program, [0, 9])"
   ]
  },
  {
   "cell_type": "code",
   "execution_count": null,
   "metadata": {},
   "outputs": [],
   "source": []
  }
 ],
 "metadata": {
  "kernelspec": {
   "display_name": "Julia 1.3.0",
   "language": "julia",
   "name": "julia-1.3"
  },
  "language_info": {
   "file_extension": ".jl",
   "mimetype": "application/julia",
   "name": "julia",
   "version": "1.3.0"
  }
 },
 "nbformat": 4,
 "nbformat_minor": 2
}
