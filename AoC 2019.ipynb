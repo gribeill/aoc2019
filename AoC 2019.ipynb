{
 "cells": [
  {
   "cell_type": "code",
   "execution_count": 204,
   "metadata": {
    "collapsed": true
   },
   "outputs": [
    {
     "name": "stderr",
     "output_type": "stream",
     "text": [
      "┌ Info: Precompiling PyPlot [d330b81b-6aea-500a-939a-2ce795aea3ee]\n",
      "└ @ Base loading.jl:1273\n",
      "┌ Info: Installing matplotlib via the Conda matplotlib package...\n",
      "└ @ PyCall /Users/gribeill/.julia/packages/PyCall/ttONZ/src/PyCall.jl:705\n",
      "┌ Info: Running `conda install -y matplotlib` in root environment\n",
      "└ @ Conda /Users/gribeill/.julia/packages/Conda/kLXeC/src/Conda.jl:112\n"
     ]
    },
    {
     "name": "stdout",
     "output_type": "stream",
     "text": [
      "Collecting package metadata (current_repodata.json): ...working... done\n",
      "Solving environment: ...working... done\n",
      "\n",
      "## Package Plan ##\n",
      "\n",
      "  environment location: /Users/gribeill/.julia/conda/3\n",
      "\n",
      "  added / updated specs:\n",
      "    - matplotlib\n",
      "\n",
      "\n",
      "The following packages will be downloaded:\n",
      "\n",
      "    package                    |            build\n",
      "    ---------------------------|-----------------\n",
      "    cycler-0.10.0              |           py37_0          14 KB\n",
      "    freetype-2.9.1             |       hb4e5f40_0         555 KB\n",
      "    kiwisolver-1.1.0           |   py37h0a44026_0          54 KB\n",
      "    libpng-1.6.37              |       ha441bb4_0         262 KB\n",
      "    matplotlib-3.1.1           |   py37h54f8f79_0         4.9 MB\n",
      "    pyparsing-2.4.5            |             py_0          62 KB\n",
      "    python-dateutil-2.8.1      |             py_0         224 KB\n",
      "    pytz-2019.3                |             py_0         231 KB\n",
      "    tornado-6.0.3              |   py37h1de35cc_0         590 KB\n",
      "    ------------------------------------------------------------\n",
      "                                           Total:         6.9 MB\n",
      "\n",
      "The following NEW packages will be INSTALLED:\n",
      "\n",
      "  cycler             pkgs/main/osx-64::cycler-0.10.0-py37_0\n",
      "  freetype           pkgs/main/osx-64::freetype-2.9.1-hb4e5f40_0\n",
      "  kiwisolver         pkgs/main/osx-64::kiwisolver-1.1.0-py37h0a44026_0\n",
      "  libpng             pkgs/main/osx-64::libpng-1.6.37-ha441bb4_0\n",
      "  matplotlib         pkgs/main/osx-64::matplotlib-3.1.1-py37h54f8f79_0\n",
      "  pyparsing          pkgs/main/noarch::pyparsing-2.4.5-py_0\n",
      "  python-dateutil    pkgs/main/noarch::python-dateutil-2.8.1-py_0\n",
      "  pytz               pkgs/main/noarch::pytz-2019.3-py_0\n",
      "  tornado            pkgs/main/osx-64::tornado-6.0.3-py37h1de35cc_0\n",
      "\n",
      "\n",
      "\n",
      "Downloading and Extracting Packages\n",
      "pyparsing-2.4.5      | 62 KB     | ########## | 100% \n",
      "kiwisolver-1.1.0     | 54 KB     | ########## | 100% \n",
      "cycler-0.10.0        | 14 KB     | ########## | 100% \n",
      "libpng-1.6.37        | 262 KB    | ########## | 100% \n",
      "pytz-2019.3          | 231 KB    | ########## | 100% \n",
      "matplotlib-3.1.1     | 4.9 MB    | ########## | 100% \n",
      "python-dateutil-2.8. | 224 KB    | ########## | 100% \n",
      "tornado-6.0.3        | 590 KB    | ########## | 100% \n",
      "freetype-2.9.1       | 555 KB    | ########## | 100% \n",
      "Preparing transaction: ...working... done\n",
      "Verifying transaction: ...working... done\n",
      "Executing transaction: ...working... done\n"
     ]
    },
    {
     "name": "stderr",
     "output_type": "stream",
     "text": [
      "┌ Warning: PyPlot is using tkagg backend, which is known to cause crashes on MacOS (#410); use the MPLBACKEND environment variable to request a different backend.\n",
      "└ @ PyPlot /Users/gribeill/.julia/packages/PyPlot/4wzW1/src/init.jl:192\n"
     ]
    }
   ],
   "source": [
    "using DelimitedFiles\n",
    "using PyPlot"
   ]
  },
  {
   "cell_type": "markdown",
   "metadata": {},
   "source": [
    "## Day 1"
   ]
  },
  {
   "cell_type": "code",
   "execution_count": 20,
   "metadata": {},
   "outputs": [
    {
     "data": {
      "text/plain": [
       "3212842"
      ]
     },
     "execution_count": 20,
     "metadata": {},
     "output_type": "execute_result"
    }
   ],
   "source": [
    "input = readdlm(\"inputs/day1.txt\", ',', Int)\n",
    "mapreduce(x -> floor(Int, x / 3) - 2, +, input)"
   ]
  },
  {
   "cell_type": "code",
   "execution_count": 26,
   "metadata": {},
   "outputs": [
    {
     "data": {
      "text/plain": [
       "4816402"
      ]
     },
     "execution_count": 26,
     "metadata": {},
     "output_type": "execute_result"
    }
   ],
   "source": [
    "function total_fuel(mass)\n",
    "    tf = 0\n",
    "    f(x) = floor(Int, x / 3) - 2\n",
    "    m = mass\n",
    "    while f(m) > 0\n",
    "        ff = f(m)\n",
    "        tf += ff\n",
    "        m = ff\n",
    "    end\n",
    "    return tf\n",
    "end\n",
    "mapreduce(total_fuel, +, input)"
   ]
  },
  {
   "cell_type": "markdown",
   "metadata": {},
   "source": [
    "## Day 2"
   ]
  },
  {
   "cell_type": "code",
   "execution_count": 65,
   "metadata": {},
   "outputs": [
    {
     "data": {
      "text/plain": [
       "computer (generic function with 1 method)"
      ]
     },
     "execution_count": 65,
     "metadata": {},
     "output_type": "execute_result"
    }
   ],
   "source": [
    "function computer(program)\n",
    "    pc = 1\n",
    "    while program[pc] != 99\n",
    "        opcode, x, y, r = program[pc:pc+3]\n",
    "        if opcode == 1\n",
    "            program[r+1] = program[x+1]+program[y+1]\n",
    "        elseif opcode == 2\n",
    "            program[r+1] = program[x+1]*program[y+1]\n",
    "        else\n",
    "            @error \"Something went wrong! Got code $(opcode).\"\n",
    "        end\n",
    "        pc += 4\n",
    "    end\n",
    "    return program\n",
    "end"
   ]
  },
  {
   "cell_type": "code",
   "execution_count": 68,
   "metadata": {},
   "outputs": [
    {
     "name": "stdout",
     "output_type": "stream",
     "text": [
      "Position 0 has: 12490719"
     ]
    }
   ],
   "source": [
    "input = readdlm(\"inputs/day2.txt\", ',', Int)\n",
    "input[2] = 12\n",
    "input[3] = 2\n",
    "result = computer(input)\n",
    "print(\"Position 0 has: $(result[1])\")"
   ]
  },
  {
   "cell_type": "code",
   "execution_count": 79,
   "metadata": {},
   "outputs": [
    {
     "data": {
      "text/plain": [
       "test_comp (generic function with 1 method)"
      ]
     },
     "execution_count": 79,
     "metadata": {},
     "output_type": "execute_result"
    }
   ],
   "source": [
    "initial_state = readdlm(\"inputs/day2.txt\", ',', Int)\n",
    "\n",
    "function test_comp(input, a, b)\n",
    "    input[2] = a\n",
    "    input[3] = b\n",
    "    return computer(input)[1]\n",
    "end"
   ]
  },
  {
   "cell_type": "code",
   "execution_count": 82,
   "metadata": {},
   "outputs": [
    {
     "name": "stdout",
     "output_type": "stream",
     "text": [
      "Found state: 2003.\n"
     ]
    }
   ],
   "source": [
    "for a=0:99\n",
    "    for b=0:99\n",
    "        if 19690720 == test_comp(copy(initial_state), a, b)\n",
    "            println(\"Found state: $(100*a + b).\")\n",
    "            break\n",
    "        end\n",
    "    end\n",
    "end"
   ]
  },
  {
   "cell_type": "markdown",
   "metadata": {},
   "source": [
    "## Day 3"
   ]
  },
  {
   "cell_type": "code",
   "execution_count": 239,
   "metadata": {},
   "outputs": [
    {
     "data": {
      "text/plain": [
       "find_intersection_delays (generic function with 1 method)"
      ]
     },
     "execution_count": 239,
     "metadata": {},
     "output_type": "execute_result"
    }
   ],
   "source": [
    "struct Point\n",
    "    x::Int\n",
    "    y::Int\n",
    "end\n",
    "\n",
    "function manhattan(a::Point, b::Point)\n",
    "    return abs(a.x-b.x) + abs(a.y-b.y)\n",
    "end\n",
    "\n",
    "struct Segment\n",
    "    start::Point\n",
    "    stop::Point\n",
    "end\n",
    "\n",
    "function sorted_x(s::Segment)\n",
    "    return sort([s.start.x, s.stop.x])\n",
    "end\n",
    "\n",
    "function sorted_y(s::Segment)\n",
    "    return sort([s.start.y, s.stop.y])\n",
    "end\n",
    "\n",
    "function move(p::Point, dir::Symbol, d::Int)\n",
    "    if dir == :R\n",
    "        stop = Point(p.x+d, p.y)\n",
    "    elseif dir == :L\n",
    "        stop = Point(p.x-d, p.y)\n",
    "    elseif dir == :U\n",
    "        stop = Point(p.x, p.y+d)\n",
    "    elseif dir == :D\n",
    "        stop = Point(p.x, p.y-d)\n",
    "    end\n",
    "    return Segment(p, stop)\n",
    "end\n",
    "\n",
    "function wire_dir(s::Segment)\n",
    "    if s.start.x == s.stop.x \n",
    "        return :V\n",
    "    else\n",
    "        return :H\n",
    "    end\n",
    "end\n",
    "\n",
    "function intersect(s1::Segment, s2::Segment)\n",
    "    no_intersection = (false, Point(0, 0))\n",
    "    if wire_dir(s1) == wire_dir(s2)\n",
    "        return no_intersection #for now assume collinear wires cannot intersect\n",
    "    else\n",
    "        if wire_dir(s1) == :H\n",
    "            x1, x2 = sorted_x(s1)\n",
    "            y1, y2 = sorted_y(s2)\n",
    "            if (x1 <= s2.start.x <= x2) && (y1 <= s1.start.y <= y2)\n",
    "                return (true, Point(s2.start.x, s1.start.y))\n",
    "            else\n",
    "                return no_intersection\n",
    "            end\n",
    "        else\n",
    "            x1, x2 = sorted_x(s2)\n",
    "            y1, y2 = sorted_y(s1)\n",
    "            if (x1 <= s1.start.x <= x2) && (y1 <= s2.start.y <= y2)\n",
    "                return (true, Point(s1.start.x, s2.start.y))\n",
    "            else\n",
    "                return no_intersection\n",
    "            end\n",
    "        end\n",
    "    end\n",
    "end\n",
    "\n",
    "function parse_input_moves(input)\n",
    "    moves = split(input, ',')\n",
    "    return [(Symbol(m[1]), parse(Int, m[2:end])) for m in moves]\n",
    "end\n",
    "\n",
    "function build_wires(moves)\n",
    "    wires = Array{Segment, 1}()\n",
    "    start = Point(0,0)\n",
    "    for m = moves\n",
    "        new_wire = move(start, m...)\n",
    "        push!(wires, new_wire)\n",
    "        start = new_wire.stop\n",
    "    end\n",
    "    return wires\n",
    "end     \n",
    "\n",
    "function plot_wires(w1, w2)\n",
    "    x = [0]\n",
    "    y = [0]\n",
    "    for w=w1\n",
    "        push!(x, w.stop.x)\n",
    "        push!(y, w.stop.y)\n",
    "    end\n",
    "    plot(x,y,\"ro-\")\n",
    "    x = [0]\n",
    "    y = [0]\n",
    "    for w=w2\n",
    "        push!(x, w.stop.x)\n",
    "        push!(y, w.stop.y)\n",
    "    end\n",
    "    plot(x,y,\"bo-\")\n",
    "end\n",
    "\n",
    "function find_interection_distances(wires1, wires2)\n",
    "    intersections = []\n",
    "    for w1 = wires1\n",
    "        for w2 = wires2\n",
    "            test = intersect(w1, w2)\n",
    "            if test[1] \n",
    "                push!(intersections, test[2])\n",
    "                #print(test[2])\n",
    "            end\n",
    "        end\n",
    "    end\n",
    "    dst(p) = manhattan(p, Point(0,0))\n",
    "    return sort([dst(p) for p in intersections if dst(p)>0])\n",
    "end\n",
    "                \n",
    "function distance_along_wire(w::Segment, p::Point)\n",
    "    return manhattan(w.start, p)\n",
    "end\n",
    "                \n",
    "function wire_length(w::Segment)\n",
    "    return manhattan(w.start, w.stop)\n",
    "end\n",
    "                                \n",
    "function find_intersection_delays(wires1, wires2)\n",
    "     delays = []\n",
    "     for (j, w1) = enumerate(wires1)\n",
    "        for (k, w2) = enumerate(wires2)\n",
    "            test = intersect(w1, w2)\n",
    "            if test[1]\n",
    "                if test[2] == Point(0,0)\n",
    "                    continue\n",
    "                end\n",
    "                #println(test[2])\n",
    "                prev_delay_1 = mapreduce(wire_length, +, wires1[1:j-1])\n",
    "                prev_delay_2 = mapreduce(wire_length, +, wires2[1:k-1])\n",
    "                #println(prev_delay_1, \" \", prev_delay_2)\n",
    "                d1 = distance_along_wire(w1, test[2])\n",
    "                d2 = distance_along_wire(w2, test[2])\n",
    "                #println(d1, \" \", d2)\n",
    "                push!(delays, d1+d2+prev_delay_1+prev_delay_2)\n",
    "            end\n",
    "        end    \n",
    "    end\n",
    "    return sort(delays)                \n",
    "end"
   ]
  },
  {
   "cell_type": "code",
   "execution_count": 240,
   "metadata": {},
   "outputs": [
    {
     "data": {
      "text/plain": [
       "2-element Array{Any,1}:\n",
       " 30\n",
       " 40"
      ]
     },
     "execution_count": 240,
     "metadata": {},
     "output_type": "execute_result"
    }
   ],
   "source": [
    "L1 = parse_input_moves(\"R8,U5,L5,D3\")\n",
    "L2 = parse_input_moves(\"U7,R6,D4,L4\")\n",
    "W1 = build_wires(L1)\n",
    "W2 = build_wires(L2);\n",
    "find_intersection_delays(W1,W2)"
   ]
  },
  {
   "cell_type": "code",
   "execution_count": 241,
   "metadata": {},
   "outputs": [
    {
     "data": {
      "text/plain": [
       "4-element Array{Any,1}:\n",
       " 610\n",
       " 624\n",
       " 726\n",
       " 850"
      ]
     },
     "execution_count": 241,
     "metadata": {},
     "output_type": "execute_result"
    }
   ],
   "source": [
    "L1 = parse_input_moves(\"R75,D30,R83,U83,L12,D49,R71,U7,L72\")\n",
    "L2 = parse_input_moves(\"U62,R66,U55,R34,D71,R55,D58,R83\")\n",
    "W1 = build_wires(L1)\n",
    "W2 = build_wires(L2);\n",
    "find_interection_distances(W1,W2);\n",
    "find_intersection_delays(W1,W2)"
   ]
  },
  {
   "cell_type": "code",
   "execution_count": 242,
   "metadata": {},
   "outputs": [
    {
     "data": {
      "text/plain": [
       "5-element Array{Any,1}:\n",
       " 410\n",
       " 516\n",
       " 636\n",
       " 650\n",
       " 700"
      ]
     },
     "execution_count": 242,
     "metadata": {},
     "output_type": "execute_result"
    }
   ],
   "source": [
    "L1 = parse_input_moves(\"R98,U47,R26,D63,R33,U87,L62,D20,R33,U53,R51\")\n",
    "L2 = parse_input_moves(\"U98,R91,D20,R16,D67,R40,U7,R15,U6,R7\")\n",
    "W1 = build_wires(L1)\n",
    "W2 = build_wires(L2);\n",
    "find_interection_distances(W1,W2);\n",
    "find_intersection_delays(W1,W2)"
   ]
  },
  {
   "cell_type": "code",
   "execution_count": 245,
   "metadata": {},
   "outputs": [
    {
     "name": "stdout",
     "output_type": "stream",
     "text": [
      "Distance to nearest intersection: 1626\n",
      "Delay to nearest intersection: 27330\n"
     ]
    }
   ],
   "source": [
    "input = readlines(\"inputs/day3.txt\")\n",
    "L1 = parse_input_moves(input[1])\n",
    "L2 = parse_input_moves(input[2])\n",
    "W1 = build_wires(L1)\n",
    "W2 = build_wires(L2);\n",
    "its = find_interection_distances(W1,W2);\n",
    "println(\"Distance to nearest intersection: $(its[1])\")\n",
    "dels = find_intersection_delays(W1,W2);\n",
    "println(\"Delay to nearest intersection: $(dels[1])\")"
   ]
  },
  {
   "cell_type": "code",
   "execution_count": null,
   "metadata": {},
   "outputs": [],
   "source": []
  }
 ],
 "metadata": {
  "kernelspec": {
   "display_name": "Julia 1.3.0",
   "language": "julia",
   "name": "julia-1.3"
  },
  "language_info": {
   "file_extension": ".jl",
   "mimetype": "application/julia",
   "name": "julia",
   "version": "1.3.0"
  }
 },
 "nbformat": 4,
 "nbformat_minor": 2
}
